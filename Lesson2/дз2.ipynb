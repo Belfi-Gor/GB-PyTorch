{
  "nbformat": 4,
  "nbformat_minor": 0,
  "metadata": {
    "kernelspec": {
      "display_name": "Python 3",
      "language": "python",
      "name": "python3"
    },
    "language_info": {
      "codemirror_mode": {
        "name": "ipython",
        "version": 3
      },
      "file_extension": ".py",
      "mimetype": "text/x-python",
      "name": "python",
      "nbconvert_exporter": "python",
      "pygments_lexer": "ipython3",
      "version": "3.8.3"
    },
    "colab": {
      "name": "pytorch_lstm.ipynb",
      "provenance": [],
      "collapsed_sections": [
        "5WoPUrVe4xyd"
      ],
      "toc_visible": true
    },
    "accelerator": "GPU"
  },
  "cells": [
    {
      "cell_type": "markdown",
      "metadata": {
        "id": "TZXTiDeh4xxu"
      },
      "source": [
        "### Pytorch.  LSTM"
      ]
    },
    {
      "cell_type": "markdown",
      "metadata": {
        "id": "DTsSulvk4xxy"
      },
      "source": [
        "![pytorch-logo.png](attachment:pytorch-logo.png)"
      ]
    },
    {
      "cell_type": "markdown",
      "metadata": {
        "id": "LYv3lNX04xx1"
      },
      "source": [
        "#### План урока:\n",
        "* LSTM\n",
        "* Свой Data Loader \n",
        "* Модуль transform"
      ]
    },
    {
      "cell_type": "code",
      "metadata": {
        "scrolled": true,
        "id": "jZaqWUDe4xx3",
        "outputId": "e5b6a8c7-dfde-461c-9bcd-d336aaa3f62a",
        "colab": {
          "base_uri": "https://localhost:8080/"
        }
      },
      "source": [
        "import torch\n",
        "from torch import nn\n",
        "import numpy as np\n",
        "import matplotlib.pyplot as plt\n",
        "\n",
        "use_cuda = torch.cuda.is_available()\n",
        "# device = torch.device(\"cpu\")\n",
        "device = torch.device('cuda') if torch.cuda.is_available() else torch.device('cpu')\n",
        "print(device)"
      ],
      "execution_count": 1,
      "outputs": [
        {
          "output_type": "stream",
          "text": [
            "cuda\n"
          ],
          "name": "stdout"
        }
      ]
    },
    {
      "cell_type": "code",
      "metadata": {
        "id": "T4WMyOc6WpVU",
        "outputId": "7f0880a3-d0e2-457a-8227-d913781f3475",
        "colab": {
          "base_uri": "https://localhost:8080/"
        }
      },
      "source": [
        "from google.colab import drive\n",
        "drive.mount('/content/drive')"
      ],
      "execution_count": 3,
      "outputs": [
        {
          "output_type": "stream",
          "text": [
            "Drive already mounted at /content/drive; to attempt to forcibly remount, call drive.mount(\"/content/drive\", force_remount=True).\n"
          ],
          "name": "stdout"
        }
      ]
    },
    {
      "cell_type": "markdown",
      "metadata": {
        "id": "lGO_51os4xyF"
      },
      "source": [
        "## LSTM"
      ]
    },
    {
      "cell_type": "markdown",
      "metadata": {
        "id": "Ke9xS9U94xyH"
      },
      "source": [
        "##### Немного о RNN "
      ]
    },
    {
      "cell_type": "markdown",
      "metadata": {
        "id": "h44tymDK4xyJ"
      },
      "source": [
        "![rnn.png](attachment:rnn.png)"
      ]
    },
    {
      "cell_type": "markdown",
      "metadata": {
        "id": "wM2RGUhf4xyL"
      },
      "source": [
        "* Могут хранить информацию о предыдущих данных (что улучшает \"понимание\" текущих данных)\n",
        "* На больших расстояниях такая способность ухудшается\n",
        "* Можно подбирать параметры сети, но на практике плохореализуемо \n",
        "* Идеальны, когда необходимо обрабатывать не сильно длинные посследовательности связанных данных"
      ]
    },
    {
      "cell_type": "markdown",
      "metadata": {
        "id": "KnS7dmya4xyM"
      },
      "source": [
        "![rnn1.png](attachment:rnn1.png)"
      ]
    },
    {
      "cell_type": "markdown",
      "metadata": {
        "id": "SLgW3F8w4xyN"
      },
      "source": [
        "### И теперь уже LSTM"
      ]
    },
    {
      "cell_type": "markdown",
      "metadata": {
        "id": "rsf5r31_4xyP"
      },
      "source": [
        "![lstm.png](attachment:lstm.png)"
      ]
    },
    {
      "cell_type": "markdown",
      "metadata": {
        "id": "coa1N0Cm4xyR"
      },
      "source": [
        "* специальная модификация рнн для исправления проблемы долгосрочной памяти\n",
        "* ключевой компонент – это состояние ячейки \n",
        "* три сигмоидальных слоя позволяют регулировать какую часть информации переслать дальше, а какую \"удалить\" \n",
        "\n",
        "Схема:\n",
        "   * Фильтр забывания (первый сигма слой) - решает какую часть информации из предыдущего состояния надо стереть из состояния ячейки\n",
        "   * Входной фильтр (второй сигма слой) и tahn - слой решает какая часть информации будет добавлена к состоянию ячейки\n",
        "   * Последний сигма слой и tahn - отвечают за выход ячейки\n",
        "    "
      ]
    },
    {
      "cell_type": "markdown",
      "metadata": {
        "id": "yHK_Z9gg4xyS"
      },
      "source": [
        "#### Статья с более подробным объяснением\n",
        "http://colah.github.io/posts/2015-08-Understanding-LSTMs/"
      ]
    },
    {
      "cell_type": "markdown",
      "metadata": {
        "id": "dck-_kpD4xyT"
      },
      "source": [
        "## Реализация на PyToch\n",
        "##### https://pytorch.org/docs/stable/generated/torch.nn.LSTM.html"
      ]
    },
    {
      "cell_type": "markdown",
      "metadata": {
        "id": "BISu5hjf4xyU"
      },
      "source": [
        "```torch.nn.LSTM(input_dim, hidden_dim,layer_num,batch_first=True)```"
      ]
    },
    {
      "cell_type": "code",
      "metadata": {
        "id": "Je0W0Xhy4xyV"
      },
      "source": [
        "class LSTM_net(nn.Module):\n",
        "    def __init__(self,input_dim,hidden_dim,output_dim,layer_num):\n",
        "        super().__init__()\n",
        "        self.hidden_dim = hidden_dim\n",
        "        self.output_dim = output_dim\n",
        "        self.lstm = torch.nn.LSTM(input_dim, hidden_dim,layer_num,batch_first=True)\n",
        "        self.dr = torch.nn.Dropout2d(0.1)\n",
        "        self.fc = torch.nn.Linear(hidden_dim,output_dim)\n",
        "        \n",
        "        \n",
        "    def forward(self,inputs):\n",
        "        x = inputs\n",
        "        lstm_out,(hn,cn) = self.lstm(x)\n",
        "        out = self.fc(lstm_out[:,-1,:])\n",
        "        return out"
      ],
      "execution_count": 4,
      "outputs": []
    },
    {
      "cell_type": "markdown",
      "metadata": {
        "id": "FbMvy_En4xyc"
      },
      "source": [
        "### Что такое распознавание действий человека и для чего оно нужно?\n",
        "![scheme.jpg](attachment:scheme.jpg)"
      ]
    },
    {
      "cell_type": "markdown",
      "metadata": {
        "id": "5WoPUrVe4xyd"
      },
      "source": [
        "#### Задачи, в которых это нужно:\n",
        "* Фитнес-приложения\n",
        "* Системы видео-наблюдения \n",
        "* Системы контроля"
      ]
    },
    {
      "cell_type": "markdown",
      "metadata": {
        "id": "xoBkP96m4xyf"
      },
      "source": [
        "### Тип данных: \n",
        "* \"Скелетные\" (skeletal) данные"
      ]
    },
    {
      "cell_type": "markdown",
      "metadata": {
        "id": "IO8Rl6AJ4xyg"
      },
      "source": [
        "![openpose_Small.jpeg](attachment:openpose_Small.jpeg)"
      ]
    },
    {
      "cell_type": "markdown",
      "metadata": {
        "id": "uLbxg9JE4xyi"
      },
      "source": [
        "## Datasets"
      ]
    },
    {
      "cell_type": "markdown",
      "metadata": {
        "id": "N2JBc3XF4xyi"
      },
      "source": [
        "https://github.com/shahroudy/NTURGB-D"
      ]
    },
    {
      "cell_type": "markdown",
      "metadata": {
        "id": "z1LJW0TK4xyk"
      },
      "source": [
        "* http://rose1.ntu.edu.sg/datasets/actionrecognition.asp\n",
        "* https://archive.ics.uci.edu/ml/datasets/human+activity+recognition+using+smartphones"
      ]
    },
    {
      "cell_type": "markdown",
      "metadata": {
        "id": "cjyosEPi4xyo"
      },
      "source": [
        "#### Classes:\n",
        "* sitting down\n",
        "* clapping\n",
        "* jump up\n",
        "* cheer up\n",
        "* hand waving"
      ]
    },
    {
      "cell_type": "code",
      "metadata": {
        "id": "C0TQoacH4xyp"
      },
      "source": [
        "import pandas as pd\n",
        "skeletons = pd.read_csv(\"/content/drive/My Drive/Нейронные сети/PyTorch/Урок 2/skels.csv\")"
      ],
      "execution_count": 5,
      "outputs": []
    },
    {
      "cell_type": "code",
      "metadata": {
        "id": "hTTGKcui4xyu"
      },
      "source": [
        "LABELS = {0: \"cheer up\", 1: \"jump up\", 2:  \"hand waving\", 3: \"sitting down\", 4: \"clapping\"}"
      ],
      "execution_count": 6,
      "outputs": []
    },
    {
      "cell_type": "code",
      "metadata": {
        "scrolled": true,
        "id": "nAHVxEvY4xy0",
        "outputId": "b074da4f-865e-4645-95b6-72eb0bc800de",
        "colab": {
          "base_uri": "https://localhost:8080/",
          "height": 256
        }
      },
      "source": [
        "skeletons.head()"
      ],
      "execution_count": 7,
      "outputs": [
        {
          "output_type": "execute_result",
          "data": {
            "text/html": [
              "<div>\n",
              "<style scoped>\n",
              "    .dataframe tbody tr th:only-of-type {\n",
              "        vertical-align: middle;\n",
              "    }\n",
              "\n",
              "    .dataframe tbody tr th {\n",
              "        vertical-align: top;\n",
              "    }\n",
              "\n",
              "    .dataframe thead th {\n",
              "        text-align: right;\n",
              "    }\n",
              "</style>\n",
              "<table border=\"1\" class=\"dataframe\">\n",
              "  <thead>\n",
              "    <tr style=\"text-align: right;\">\n",
              "      <th></th>\n",
              "      <th>0</th>\n",
              "      <th>1</th>\n",
              "      <th>2</th>\n",
              "      <th>3</th>\n",
              "      <th>4</th>\n",
              "      <th>5</th>\n",
              "      <th>6</th>\n",
              "      <th>7</th>\n",
              "      <th>8</th>\n",
              "      <th>9</th>\n",
              "      <th>10</th>\n",
              "      <th>11</th>\n",
              "      <th>12</th>\n",
              "      <th>13</th>\n",
              "      <th>14</th>\n",
              "      <th>15</th>\n",
              "      <th>16</th>\n",
              "      <th>17</th>\n",
              "      <th>18</th>\n",
              "      <th>19</th>\n",
              "      <th>20</th>\n",
              "      <th>21</th>\n",
              "      <th>22</th>\n",
              "      <th>23</th>\n",
              "      <th>24</th>\n",
              "      <th>25</th>\n",
              "      <th>26</th>\n",
              "      <th>27</th>\n",
              "      <th>28</th>\n",
              "      <th>29</th>\n",
              "      <th>30</th>\n",
              "      <th>31</th>\n",
              "      <th>32</th>\n",
              "      <th>33</th>\n",
              "      <th>34</th>\n",
              "      <th>35</th>\n",
              "      <th>36</th>\n",
              "      <th>37</th>\n",
              "      <th>38</th>\n",
              "      <th>39</th>\n",
              "      <th>...</th>\n",
              "      <th>3336</th>\n",
              "      <th>3337</th>\n",
              "      <th>3338</th>\n",
              "      <th>3339</th>\n",
              "      <th>3340</th>\n",
              "      <th>3341</th>\n",
              "      <th>3342</th>\n",
              "      <th>3343</th>\n",
              "      <th>3344</th>\n",
              "      <th>3345</th>\n",
              "      <th>3346</th>\n",
              "      <th>3347</th>\n",
              "      <th>3348</th>\n",
              "      <th>3349</th>\n",
              "      <th>3350</th>\n",
              "      <th>3351</th>\n",
              "      <th>3352</th>\n",
              "      <th>3353</th>\n",
              "      <th>3354</th>\n",
              "      <th>3355</th>\n",
              "      <th>3356</th>\n",
              "      <th>3357</th>\n",
              "      <th>3358</th>\n",
              "      <th>3359</th>\n",
              "      <th>3360</th>\n",
              "      <th>3361</th>\n",
              "      <th>3362</th>\n",
              "      <th>3363</th>\n",
              "      <th>3364</th>\n",
              "      <th>3365</th>\n",
              "      <th>3366</th>\n",
              "      <th>3367</th>\n",
              "      <th>3368</th>\n",
              "      <th>3369</th>\n",
              "      <th>3370</th>\n",
              "      <th>3371</th>\n",
              "      <th>3372</th>\n",
              "      <th>3373</th>\n",
              "      <th>3374</th>\n",
              "      <th>labels</th>\n",
              "    </tr>\n",
              "  </thead>\n",
              "  <tbody>\n",
              "    <tr>\n",
              "      <th>0</th>\n",
              "      <td>-0.526048</td>\n",
              "      <td>-0.277147</td>\n",
              "      <td>2.987706</td>\n",
              "      <td>-0.606184</td>\n",
              "      <td>-0.010056</td>\n",
              "      <td>3.010000</td>\n",
              "      <td>-0.681454</td>\n",
              "      <td>0.251614</td>\n",
              "      <td>3.020046</td>\n",
              "      <td>-0.708330</td>\n",
              "      <td>0.386629</td>\n",
              "      <td>3.087164</td>\n",
              "      <td>-0.704835</td>\n",
              "      <td>0.111742</td>\n",
              "      <td>2.856311</td>\n",
              "      <td>-0.515683</td>\n",
              "      <td>-0.024701</td>\n",
              "      <td>2.727949</td>\n",
              "      <td>-0.353615</td>\n",
              "      <td>-0.123308</td>\n",
              "      <td>2.706112</td>\n",
              "      <td>-0.327895</td>\n",
              "      <td>-0.141611</td>\n",
              "      <td>2.749221</td>\n",
              "      <td>-0.511823</td>\n",
              "      <td>0.157910</td>\n",
              "      <td>3.311851</td>\n",
              "      <td>-0.543163</td>\n",
              "      <td>-0.013495</td>\n",
              "      <td>3.108863</td>\n",
              "      <td>-0.496480</td>\n",
              "      <td>-0.181723</td>\n",
              "      <td>2.912678</td>\n",
              "      <td>-0.424105</td>\n",
              "      <td>-0.341968</td>\n",
              "      <td>2.685757</td>\n",
              "      <td>-0.559787</td>\n",
              "      <td>-0.277896</td>\n",
              "      <td>2.867135</td>\n",
              "      <td>-0.187794</td>\n",
              "      <td>...</td>\n",
              "      <td>-0.570154</td>\n",
              "      <td>-0.290760</td>\n",
              "      <td>2.955790</td>\n",
              "      <td>-0.255583</td>\n",
              "      <td>-0.187767</td>\n",
              "      <td>2.804032</td>\n",
              "      <td>-0.094777</td>\n",
              "      <td>-0.625936</td>\n",
              "      <td>2.721997</td>\n",
              "      <td>0.002962</td>\n",
              "      <td>-0.660430</td>\n",
              "      <td>2.645224</td>\n",
              "      <td>-0.491591</td>\n",
              "      <td>-0.281821</td>\n",
              "      <td>2.985380</td>\n",
              "      <td>-0.109749</td>\n",
              "      <td>-0.353734</td>\n",
              "      <td>2.758277</td>\n",
              "      <td>-0.016498</td>\n",
              "      <td>-0.707223</td>\n",
              "      <td>3.037502</td>\n",
              "      <td>0.080172</td>\n",
              "      <td>-0.741614</td>\n",
              "      <td>2.960732</td>\n",
              "      <td>-0.713666</td>\n",
              "      <td>0.178025</td>\n",
              "      <td>2.969061</td>\n",
              "      <td>-0.599133</td>\n",
              "      <td>0.702776</td>\n",
              "      <td>2.722800</td>\n",
              "      <td>-0.619659</td>\n",
              "      <td>0.647852</td>\n",
              "      <td>2.708625</td>\n",
              "      <td>-0.598600</td>\n",
              "      <td>0.593635</td>\n",
              "      <td>2.707864</td>\n",
              "      <td>-0.601837</td>\n",
              "      <td>0.592191</td>\n",
              "      <td>2.697301</td>\n",
              "      <td>0</td>\n",
              "    </tr>\n",
              "    <tr>\n",
              "      <th>1</th>\n",
              "      <td>-0.325320</td>\n",
              "      <td>-0.560200</td>\n",
              "      <td>3.244968</td>\n",
              "      <td>-0.296753</td>\n",
              "      <td>-0.312155</td>\n",
              "      <td>3.234485</td>\n",
              "      <td>-0.267607</td>\n",
              "      <td>-0.066345</td>\n",
              "      <td>3.212031</td>\n",
              "      <td>-0.286594</td>\n",
              "      <td>0.049026</td>\n",
              "      <td>3.222926</td>\n",
              "      <td>-0.412259</td>\n",
              "      <td>-0.156479</td>\n",
              "      <td>3.294798</td>\n",
              "      <td>-0.467307</td>\n",
              "      <td>-0.373163</td>\n",
              "      <td>3.353605</td>\n",
              "      <td>-0.452381</td>\n",
              "      <td>-0.607216</td>\n",
              "      <td>3.276438</td>\n",
              "      <td>-0.459716</td>\n",
              "      <td>-0.668793</td>\n",
              "      <td>3.282482</td>\n",
              "      <td>-0.160399</td>\n",
              "      <td>-0.179870</td>\n",
              "      <td>3.150078</td>\n",
              "      <td>-0.136725</td>\n",
              "      <td>-0.403121</td>\n",
              "      <td>3.128864</td>\n",
              "      <td>-0.160573</td>\n",
              "      <td>-0.601392</td>\n",
              "      <td>3.074458</td>\n",
              "      <td>-0.177965</td>\n",
              "      <td>-0.641335</td>\n",
              "      <td>3.074898</td>\n",
              "      <td>-0.368195</td>\n",
              "      <td>-0.549674</td>\n",
              "      <td>3.236222</td>\n",
              "      <td>-0.341016</td>\n",
              "      <td>...</td>\n",
              "      <td>-0.257144</td>\n",
              "      <td>-0.549525</td>\n",
              "      <td>3.252231</td>\n",
              "      <td>-0.284481</td>\n",
              "      <td>-0.867219</td>\n",
              "      <td>3.254666</td>\n",
              "      <td>-0.260625</td>\n",
              "      <td>-1.214738</td>\n",
              "      <td>3.346629</td>\n",
              "      <td>-0.287114</td>\n",
              "      <td>-1.243873</td>\n",
              "      <td>3.252890</td>\n",
              "      <td>-0.167253</td>\n",
              "      <td>-0.557715</td>\n",
              "      <td>3.216227</td>\n",
              "      <td>-0.177271</td>\n",
              "      <td>-0.884009</td>\n",
              "      <td>3.205395</td>\n",
              "      <td>-0.126542</td>\n",
              "      <td>-1.207360</td>\n",
              "      <td>3.246551</td>\n",
              "      <td>-0.155615</td>\n",
              "      <td>-1.256368</td>\n",
              "      <td>3.249898</td>\n",
              "      <td>-0.198894</td>\n",
              "      <td>-0.136859</td>\n",
              "      <td>3.196666</td>\n",
              "      <td>-0.064467</td>\n",
              "      <td>-0.539597</td>\n",
              "      <td>3.214681</td>\n",
              "      <td>-0.066076</td>\n",
              "      <td>-0.459657</td>\n",
              "      <td>3.206000</td>\n",
              "      <td>-0.227804</td>\n",
              "      <td>-0.654428</td>\n",
              "      <td>3.002556</td>\n",
              "      <td>-0.231687</td>\n",
              "      <td>-0.655208</td>\n",
              "      <td>3.000000</td>\n",
              "      <td>1</td>\n",
              "    </tr>\n",
              "    <tr>\n",
              "      <th>2</th>\n",
              "      <td>-0.134503</td>\n",
              "      <td>0.387048</td>\n",
              "      <td>3.797468</td>\n",
              "      <td>-0.135835</td>\n",
              "      <td>0.648782</td>\n",
              "      <td>3.669347</td>\n",
              "      <td>-0.137341</td>\n",
              "      <td>0.904024</td>\n",
              "      <td>3.529603</td>\n",
              "      <td>-0.131990</td>\n",
              "      <td>1.040210</td>\n",
              "      <td>3.459599</td>\n",
              "      <td>-0.305457</td>\n",
              "      <td>0.803356</td>\n",
              "      <td>3.557507</td>\n",
              "      <td>-0.347566</td>\n",
              "      <td>0.584975</td>\n",
              "      <td>3.688359</td>\n",
              "      <td>-0.388565</td>\n",
              "      <td>0.400258</td>\n",
              "      <td>3.742037</td>\n",
              "      <td>-0.379674</td>\n",
              "      <td>0.323533</td>\n",
              "      <td>3.767783</td>\n",
              "      <td>0.034142</td>\n",
              "      <td>0.812697</td>\n",
              "      <td>3.575421</td>\n",
              "      <td>0.083355</td>\n",
              "      <td>0.608419</td>\n",
              "      <td>3.697207</td>\n",
              "      <td>0.079156</td>\n",
              "      <td>0.419270</td>\n",
              "      <td>3.766705</td>\n",
              "      <td>0.059876</td>\n",
              "      <td>0.361420</td>\n",
              "      <td>3.788075</td>\n",
              "      <td>-0.211784</td>\n",
              "      <td>0.380342</td>\n",
              "      <td>3.759820</td>\n",
              "      <td>-0.271761</td>\n",
              "      <td>...</td>\n",
              "      <td>-0.250673</td>\n",
              "      <td>0.606249</td>\n",
              "      <td>3.497178</td>\n",
              "      <td>-0.311035</td>\n",
              "      <td>0.334250</td>\n",
              "      <td>3.712313</td>\n",
              "      <td>-0.343928</td>\n",
              "      <td>0.063761</td>\n",
              "      <td>4.068970</td>\n",
              "      <td>-0.354147</td>\n",
              "      <td>-0.027281</td>\n",
              "      <td>3.967637</td>\n",
              "      <td>-0.095314</td>\n",
              "      <td>0.609818</td>\n",
              "      <td>3.490057</td>\n",
              "      <td>-0.045545</td>\n",
              "      <td>0.354838</td>\n",
              "      <td>3.724567</td>\n",
              "      <td>-0.035290</td>\n",
              "      <td>0.029367</td>\n",
              "      <td>4.036292</td>\n",
              "      <td>-0.048035</td>\n",
              "      <td>-0.061396</td>\n",
              "      <td>3.934838</td>\n",
              "      <td>-0.160851</td>\n",
              "      <td>1.087236</td>\n",
              "      <td>3.319579</td>\n",
              "      <td>-0.358098</td>\n",
              "      <td>0.506673</td>\n",
              "      <td>3.490695</td>\n",
              "      <td>-0.332011</td>\n",
              "      <td>0.576840</td>\n",
              "      <td>3.451273</td>\n",
              "      <td>0.011452</td>\n",
              "      <td>0.521624</td>\n",
              "      <td>3.528420</td>\n",
              "      <td>-0.011325</td>\n",
              "      <td>0.589017</td>\n",
              "      <td>3.480000</td>\n",
              "      <td>1</td>\n",
              "    </tr>\n",
              "    <tr>\n",
              "      <th>3</th>\n",
              "      <td>0.371560</td>\n",
              "      <td>-0.187321</td>\n",
              "      <td>2.853457</td>\n",
              "      <td>0.388124</td>\n",
              "      <td>0.118966</td>\n",
              "      <td>2.756247</td>\n",
              "      <td>0.402399</td>\n",
              "      <td>0.418116</td>\n",
              "      <td>2.643035</td>\n",
              "      <td>0.354668</td>\n",
              "      <td>0.559822</td>\n",
              "      <td>2.625852</td>\n",
              "      <td>0.286102</td>\n",
              "      <td>0.348658</td>\n",
              "      <td>2.812573</td>\n",
              "      <td>0.241775</td>\n",
              "      <td>0.077759</td>\n",
              "      <td>2.934890</td>\n",
              "      <td>0.153760</td>\n",
              "      <td>-0.150245</td>\n",
              "      <td>2.875890</td>\n",
              "      <td>0.157503</td>\n",
              "      <td>-0.176863</td>\n",
              "      <td>2.863508</td>\n",
              "      <td>0.485513</td>\n",
              "      <td>0.267053</td>\n",
              "      <td>2.568110</td>\n",
              "      <td>0.518208</td>\n",
              "      <td>0.020373</td>\n",
              "      <td>2.588219</td>\n",
              "      <td>0.423660</td>\n",
              "      <td>-0.210078</td>\n",
              "      <td>2.590119</td>\n",
              "      <td>0.397967</td>\n",
              "      <td>-0.293417</td>\n",
              "      <td>2.620825</td>\n",
              "      <td>0.321781</td>\n",
              "      <td>-0.177898</td>\n",
              "      <td>2.866281</td>\n",
              "      <td>0.343763</td>\n",
              "      <td>...</td>\n",
              "      <td>0.329269</td>\n",
              "      <td>-0.174708</td>\n",
              "      <td>2.878668</td>\n",
              "      <td>0.336804</td>\n",
              "      <td>-0.538840</td>\n",
              "      <td>3.011136</td>\n",
              "      <td>0.415498</td>\n",
              "      <td>-0.883922</td>\n",
              "      <td>3.156997</td>\n",
              "      <td>0.344501</td>\n",
              "      <td>-0.925589</td>\n",
              "      <td>3.085428</td>\n",
              "      <td>0.418745</td>\n",
              "      <td>-0.186306</td>\n",
              "      <td>2.767760</td>\n",
              "      <td>0.473212</td>\n",
              "      <td>-0.551371</td>\n",
              "      <td>2.765115</td>\n",
              "      <td>0.550901</td>\n",
              "      <td>-0.958713</td>\n",
              "      <td>2.980955</td>\n",
              "      <td>0.478178</td>\n",
              "      <td>-0.999143</td>\n",
              "      <td>2.910031</td>\n",
              "      <td>0.389971</td>\n",
              "      <td>0.338643</td>\n",
              "      <td>2.666431</td>\n",
              "      <td>0.089315</td>\n",
              "      <td>0.707141</td>\n",
              "      <td>2.796196</td>\n",
              "      <td>0.106246</td>\n",
              "      <td>0.619960</td>\n",
              "      <td>2.735462</td>\n",
              "      <td>0.352891</td>\n",
              "      <td>-0.375651</td>\n",
              "      <td>2.625237</td>\n",
              "      <td>0.465385</td>\n",
              "      <td>-0.316062</td>\n",
              "      <td>2.651301</td>\n",
              "      <td>2</td>\n",
              "    </tr>\n",
              "    <tr>\n",
              "      <th>4</th>\n",
              "      <td>-0.193082</td>\n",
              "      <td>-0.178566</td>\n",
              "      <td>2.814345</td>\n",
              "      <td>-0.196894</td>\n",
              "      <td>0.114788</td>\n",
              "      <td>2.849780</td>\n",
              "      <td>-0.198289</td>\n",
              "      <td>0.400548</td>\n",
              "      <td>2.872416</td>\n",
              "      <td>-0.178771</td>\n",
              "      <td>0.542473</td>\n",
              "      <td>2.863049</td>\n",
              "      <td>-0.360317</td>\n",
              "      <td>0.275860</td>\n",
              "      <td>2.827222</td>\n",
              "      <td>-0.401500</td>\n",
              "      <td>0.038034</td>\n",
              "      <td>2.808956</td>\n",
              "      <td>-0.396649</td>\n",
              "      <td>-0.183429</td>\n",
              "      <td>2.708269</td>\n",
              "      <td>-0.390095</td>\n",
              "      <td>-0.255567</td>\n",
              "      <td>2.687460</td>\n",
              "      <td>-0.017156</td>\n",
              "      <td>0.265163</td>\n",
              "      <td>2.868467</td>\n",
              "      <td>0.011366</td>\n",
              "      <td>0.025235</td>\n",
              "      <td>2.858697</td>\n",
              "      <td>0.022230</td>\n",
              "      <td>-0.202932</td>\n",
              "      <td>2.776967</td>\n",
              "      <td>0.016230</td>\n",
              "      <td>-0.287072</td>\n",
              "      <td>2.753526</td>\n",
              "      <td>-0.258041</td>\n",
              "      <td>-0.174188</td>\n",
              "      <td>2.773036</td>\n",
              "      <td>-0.297204</td>\n",
              "      <td>...</td>\n",
              "      <td>-0.333521</td>\n",
              "      <td>-0.585503</td>\n",
              "      <td>3.089381</td>\n",
              "      <td>-0.355346</td>\n",
              "      <td>-0.564656</td>\n",
              "      <td>2.722364</td>\n",
              "      <td>-0.329321</td>\n",
              "      <td>-0.946284</td>\n",
              "      <td>2.762316</td>\n",
              "      <td>-0.323542</td>\n",
              "      <td>-0.986492</td>\n",
              "      <td>2.630332</td>\n",
              "      <td>-0.160405</td>\n",
              "      <td>-0.595503</td>\n",
              "      <td>3.097269</td>\n",
              "      <td>-0.071415</td>\n",
              "      <td>-0.572318</td>\n",
              "      <td>2.738775</td>\n",
              "      <td>-0.107231</td>\n",
              "      <td>-0.941284</td>\n",
              "      <td>2.766737</td>\n",
              "      <td>-0.103634</td>\n",
              "      <td>-0.981497</td>\n",
              "      <td>2.634580</td>\n",
              "      <td>-0.215003</td>\n",
              "      <td>-0.162058</td>\n",
              "      <td>3.060165</td>\n",
              "      <td>-0.551289</td>\n",
              "      <td>-0.465856</td>\n",
              "      <td>2.999218</td>\n",
              "      <td>-0.567993</td>\n",
              "      <td>-0.426740</td>\n",
              "      <td>2.994171</td>\n",
              "      <td>0.102882</td>\n",
              "      <td>-0.492025</td>\n",
              "      <td>3.011537</td>\n",
              "      <td>0.063065</td>\n",
              "      <td>-0.435819</td>\n",
              "      <td>3.055625</td>\n",
              "      <td>3</td>\n",
              "    </tr>\n",
              "  </tbody>\n",
              "</table>\n",
              "<p>5 rows × 3376 columns</p>\n",
              "</div>"
            ],
            "text/plain": [
              "          0         1         2         3  ...      3372      3373      3374  labels\n",
              "0 -0.526048 -0.277147  2.987706 -0.606184  ... -0.601837  0.592191  2.697301       0\n",
              "1 -0.325320 -0.560200  3.244968 -0.296753  ... -0.231687 -0.655208  3.000000       1\n",
              "2 -0.134503  0.387048  3.797468 -0.135835  ... -0.011325  0.589017  3.480000       1\n",
              "3  0.371560 -0.187321  2.853457  0.388124  ...  0.465385 -0.316062  2.651301       2\n",
              "4 -0.193082 -0.178566  2.814345 -0.196894  ...  0.063065 -0.435819  3.055625       3\n",
              "\n",
              "[5 rows x 3376 columns]"
            ]
          },
          "metadata": {
            "tags": []
          },
          "execution_count": 7
        }
      ]
    },
    {
      "cell_type": "code",
      "metadata": {
        "id": "9-KqCuzG4xy8",
        "outputId": "18d25de3-77db-4c71-8503-2e21cd1dc489",
        "colab": {
          "base_uri": "https://localhost:8080/"
        }
      },
      "source": [
        "skeletons.shape"
      ],
      "execution_count": 8,
      "outputs": [
        {
          "output_type": "execute_result",
          "data": {
            "text/plain": [
              "(636, 3376)"
            ]
          },
          "metadata": {
            "tags": []
          },
          "execution_count": 8
        }
      ]
    },
    {
      "cell_type": "markdown",
      "metadata": {
        "id": "_d1O7of_4xzC"
      },
      "source": [
        "## Dataloader"
      ]
    },
    {
      "cell_type": "code",
      "metadata": {
        "id": "jpfRXahW4xzD"
      },
      "source": [
        "import torch\n",
        "import matplotlib.pyplot as plt\n",
        "import torchvision\n",
        "from torchvision import datasets, transforms\n",
        "import numpy as np\n",
        "import os"
      ],
      "execution_count": 9,
      "outputs": []
    },
    {
      "cell_type": "code",
      "metadata": {
        "id": "dom-Lsnb4xzJ"
      },
      "source": [
        "from torch.utils.data import DataLoader, Dataset"
      ],
      "execution_count": 10,
      "outputs": []
    },
    {
      "cell_type": "markdown",
      "metadata": {
        "id": "w5XzUbro4xzP"
      },
      "source": [
        "``` DataLoader(dataset, batch_size=1, shuffle=False, sampler=None,\n",
        "           batch_sampler=None, num_workers=0, collate_fn=None,\n",
        "           pin_memory=False, drop_last=False, timeout=0,\n",
        "           worker_init_fn=None) ```"
      ]
    },
    {
      "cell_type": "markdown",
      "metadata": {
        "id": "Cs1z2Kar4xzR"
      },
      "source": [
        "Класс Dataset и класс Dataloader помогают передавать собственные обучающие данные в сеть. \n",
        "Класс Dataset используется для обеспечения интерфейса для доступа ко всем обучающим или тестовым образцам в вашем наборе данных. Для этого необходимо реализовать как два обязательных метода, __getitem__ и __len_. "
      ]
    },
    {
      "cell_type": "code",
      "metadata": {
        "id": "xBJsuAViLIRh"
      },
      "source": [
        "from zipfile import ZipFile\n",
        "import pandas as pd"
      ],
      "execution_count": 11,
      "outputs": []
    },
    {
      "cell_type": "code",
      "metadata": {
        "id": "MCV83pkHLBfm",
        "outputId": "d27c3b1b-1972-4d24-edda-af890e722251",
        "colab": {
          "base_uri": "https://localhost:8080/"
        }
      },
      "source": [
        "!wget https://github.com/shahroudy/NTURGB-D/blob/master/Matlab/NTU_RGBD_samples_with_missing_skeletons.txt\n",
        "!cp '/content/drive/My Drive/Нейронные сети/PyTorch/Урок 2/nturgbd_skeletons_s001_to_s017.zip' /content/\n",
        "with ZipFile('/content/drive/My Drive/Нейронные сети/PyTorch/Урок 2/nturgbd_skeletons_s001_to_s017.zip', 'r') as zipObj:\n",
        "   # Extract all the contents of zip file in current directory\n",
        "   zipObj.extractall('/content/nturgb+d_skeletons/')"
      ],
      "execution_count": null,
      "outputs": [
        {
          "output_type": "stream",
          "text": [
            "--2020-11-11 07:24:46--  https://github.com/shahroudy/NTURGB-D/blob/master/Matlab/NTU_RGBD_samples_with_missing_skeletons.txt\n",
            "Resolving github.com (github.com)... 192.30.255.113\n",
            "Connecting to github.com (github.com)|192.30.255.113|:443... connected.\n",
            "HTTP request sent, awaiting response... 200 OK\n",
            "Length: unspecified [text/html]\n",
            "Saving to: ‘NTU_RGBD_samples_with_missing_skeletons.txt’\n",
            "\n",
            "NTU_RGBD_samples_wi     [ <=>                ] 144.84K  --.-KB/s    in 0.03s   \n",
            "\n",
            "2020-11-11 07:24:47 (5.42 MB/s) - ‘NTU_RGBD_samples_with_missing_skeletons.txt’ saved [148320]\n",
            "\n"
          ],
          "name": "stdout"
        }
      ]
    },
    {
      "cell_type": "code",
      "metadata": {
        "id": "CS4xCUtTLFbg"
      },
      "source": [
        ""
      ],
      "execution_count": null,
      "outputs": []
    },
    {
      "cell_type": "code",
      "metadata": {
        "id": "LKIrmsJ44xzS"
      },
      "source": [
        "class Test_Dataset(Dataset):\n",
        "    def __init__(self, file_path, broken_files_path, transform=None):\n",
        "        self.data_path = file_path\n",
        "        self.training_subjects = list(range(0, 28)) #количество людей выполняющих действия\n",
        "        self.training_classes = [8, 10, 22, 23, 27, 21] #классы которые будем использовать для обучения, полный список прдставлен тут https://github.com/shahroudy/NTURGB-D\n",
        "        self.training_cameras = [1, 2, 3] \n",
        "        self.max_body_true = 1\n",
        "        self.max_body_kinect = 1\n",
        "        self.num_joint = 25\n",
        "        self.max_frame = 300\n",
        "        # self.samples = list(range(0, 100)) ##генерируем случайные данные\n",
        "        # print(file_path)\n",
        "        self.working_files_with_labels, self.action_classes = self.read_data(file_path, broken_files_path)\n",
        "        self.LABELS = {v: k for k, v in self.action_classes.items()}\n",
        "        # print(LABELS)\n",
        "        # Все подготовления данных происходят в инициализации:\n",
        "        # - разделение данных на train/test/ validate\n",
        "        # - аугментация (трансформация) данных \n",
        "        # - чтние аннотаций\n",
        "        # - считывание по индексу\n",
        "         # - Применяет выбранные трансформации к данным\n",
        "\n",
        "    def __len__(self):\n",
        "        # # Возвращает данные и лейблы\n",
        "       \n",
        "        # - отправление данных на гпу\n",
        "        # - лучше возвращать данные как тензор или словарь\n",
        "         # - Применяет выбранные трансформации к данным\n",
        "        return len(self.samples) #возвращаем данные\n",
        "\n",
        "    def __getitem__(self, idx):\n",
        "        return (self.samples[idx], label) \n",
        "\n",
        "    #Считываю данные из датасета и возвращаю имена файлов + описание действий\n",
        "    def read_data(self, data_path, broken_files_path):\n",
        "      labels = []\n",
        "      files = []\n",
        "      action_classes = {}\n",
        "      counter = 0\n",
        "      files_counter = {}\n",
        "                \n",
        "      with open(broken_files_path, 'r') as f:\n",
        "          broken_files = f.read().split(\"\\n\")\n",
        "\n",
        "      raw_files = os.listdir(data_path)\n",
        "      # return raw_files.shape\n",
        "      num_frames = 0\n",
        "\n",
        "      for filename in raw_files:\n",
        "          if filename not in broken_files:\n",
        "              # print(filename)\n",
        "              # return\n",
        "              action_class = int(filename[filename.find('A') + 1:filename.find('A') + 4])\n",
        "              subject_id = int(filename[filename.find('P') + 1:filename.find('P') + 4])\n",
        "              camera_id = int(filename[filename.find('C') + 1:filename.find('C') + 4])\n",
        "              if action_class in self.training_classes and camera_id in self.training_cameras:  #and subject_id in training_subjects:\n",
        "                  if action_class in action_classes:\n",
        "                      if files_counter[action_class] < 120:\n",
        "                          files.append([filename,action_classes[action_class]])\n",
        "                          files_counter[action_class] = files_counter[action_class] + 1\n",
        "                  else:\n",
        "                      action_classes.update({action_class : counter})\n",
        "                      files_counter.update({action_class : 1})\n",
        "                      counter+=1\n",
        "                      files.append([filename,action_classes[action_class]])\n",
        "  #                     labels.append([action_class])\n",
        "      print(\"action classes: \", action_classes)\n",
        "      print(\"action files: \", files_counter)\n",
        "      \n",
        "      return files, action_classes\n",
        "\n",
        "    def get_nonzero_std(self, s): \n",
        "      index = s.sum(-1).sum(-1) != 0  \n",
        "      s = s[index]\n",
        "      if len(s) != 0:\n",
        "          s = s[:, :, 0].std() + s[:, :, 1].std() + s[:, :, 2].std()  \n",
        "      else:\n",
        "          s = 0\n",
        "      return s\n",
        "\n",
        "    def read_skeleton_filter(self, file):\n",
        "        with open(file, 'r') as f:\n",
        "            skeleton_sequence = {}\n",
        "            skeleton_sequence['numFrame'] = int(f.readline())\n",
        "            skeleton_sequence['frameInfo'] = []\n",
        "            for t in range(skeleton_sequence['numFrame']):\n",
        "                frame_info = {}\n",
        "                frame_info['numBody'] = int(f.readline())\n",
        "                frame_info['bodyInfo'] = []\n",
        "\n",
        "                for m in range(frame_info['numBody']):\n",
        "                    body_info = {}\n",
        "                    body_info_key = [\n",
        "                        'bodyID', 'clipedEdges', 'handLeftConfidence',\n",
        "                        'handLeftState', 'handRightConfidence', 'handRightState',\n",
        "                        'isResticted', 'leanX', 'leanY', 'trackingState'\n",
        "                    ]\n",
        "                    body_info = {\n",
        "                        k: float(v)\n",
        "                        for k, v in zip(body_info_key, f.readline().split())\n",
        "                    }\n",
        "                    body_info['numJoint'] = int(f.readline())\n",
        "                    body_info['jointInfo'] = []\n",
        "                    for v in range(body_info['numJoint']):\n",
        "                        joint_info_key = [\n",
        "                            'x', 'y', 'z', 'depthX', 'depthY', 'colorX', 'colorY',\n",
        "                            'orientationW', 'orientationX', 'orientationY',\n",
        "                            'orientationZ', 'trackingState'\n",
        "                        ]\n",
        "                        joint_info = {\n",
        "                            k: float(v)\n",
        "                            for k, v in zip(joint_info_key, f.readline().split())\n",
        "                        }\n",
        "                        body_info['jointInfo'].append(joint_info)\n",
        "                    frame_info['bodyInfo'].append(body_info)\n",
        "                skeleton_sequence['frameInfo'].append(frame_info)\n",
        "\n",
        "        return skeleton_sequence\n",
        "\n",
        "    def read_xyz(self, file, max_body=1, num_joint=25):\n",
        "        seq_info = self.read_skeleton_filter(file)\n",
        "        data = np.zeros((max_body, seq_info['numFrame'], num_joint, 3))\n",
        "        for n, f in enumerate(seq_info['frameInfo']):\n",
        "            for m, b in enumerate(f['bodyInfo']):\n",
        "                for j, v in enumerate(b['jointInfo']):\n",
        "                    if m < max_body and j < num_joint:\n",
        "                        data[m, n, j, :] = [v['x'], v['y'], v['z']]\n",
        "\n",
        "                    else:\n",
        "                        pass\n",
        "\n",
        "        return data\n",
        "\n",
        "    def create_coords_blocks(self, test_file, chonk_len = 45):   \n",
        "        frame_counter = 0\n",
        "        new_labels = []\n",
        "        new_frames = []\n",
        "        blocks = []\n",
        "        \n",
        "        test_frames = self.read_xyz(self.data_path + test_file[0])[0]\n",
        "        \n",
        "        label = test_file[1]\n",
        "        slice_len = chonk_len * int(len(test_frames)/chonk_len)\n",
        "\n",
        "\n",
        "        for index in range(len(test_frames[:slice_len])):\n",
        "            frame_counter += 1\n",
        "            new_frames.append(test_frames[index].flatten())\n",
        "            if frame_counter == chonk_len:\n",
        "                frame_counter = 0\n",
        "                blocks.append(np.array(new_frames))\n",
        "                new_labels = new_labels + [label]\n",
        "                new_frames = []\n",
        "          \n",
        "                \n",
        "        return blocks, new_labels\n",
        "\n",
        "\n",
        "\n",
        "    def make_sub_ds(self, output_file, index=False):\n",
        "        data = []\n",
        "        labels = []\n",
        "        ##########################################################################\n",
        "        numbers = self.LABELS #####\n",
        "\n",
        "        ##################################################################\n",
        "        for file in self.working_files_with_labels:\n",
        "            frames_blocks, label = self.create_coords_blocks(file)\n",
        "            # print(frames_blocks)\n",
        "            # print(label)\n",
        "            # print(numbers[label[0]])\n",
        "            if label != [] and numbers[label[0]] <= 150:\n",
        "            # if label != [] and numbers[label[0]] in classes_filter:\n",
        "                # print(numbers[label[0]])\n",
        "                numbers[label[0]] = numbers[label[0]] + len(label)\n",
        "                data = data + frames_blocks\n",
        "                labels = labels + label\n",
        "        data_np = np.asarray(data)\n",
        "        labels_np = np.asarray(labels)\n",
        "\n",
        "        data_sq = data_np.reshape(len(data_np), -1)\n",
        "        test_data = pd.DataFrame(data_sq)\n",
        "        test_labels = pd.DataFrame(labels_np)\n",
        "        test_data['labels'] = test_labels\n",
        "        test_data.to_csv(output_file, index = False)"
      ],
      "execution_count": null,
      "outputs": []
    },
    {
      "cell_type": "code",
      "metadata": {
        "id": "0IktDptSJ3Zn",
        "outputId": "23c1b0f4-aa59-4afa-f441-423d446a6b47",
        "colab": {
          "base_uri": "https://localhost:8080/"
        }
      },
      "source": [
        "dataset = Test_Dataset(\"/content/nturgb+d_skeletons/nturgb+d_skeletons/\", \"/content/NTU_RGBD_samples_with_missing_skeletons.txt\")"
      ],
      "execution_count": null,
      "outputs": [
        {
          "output_type": "stream",
          "text": [
            "action classes:  {8: 0, 23: 1, 27: 2, 10: 3, 22: 4, 21: 5}\n",
            "action files:  {8: 120, 23: 120, 27: 120, 10: 120, 22: 120, 21: 120}\n"
          ],
          "name": "stdout"
        }
      ]
    },
    {
      "cell_type": "code",
      "metadata": {
        "id": "ktQmLeUWPtNz"
      },
      "source": [
        "dataset.make_sub_ds(\"/content/test_export.csv\")"
      ],
      "execution_count": null,
      "outputs": []
    },
    {
      "cell_type": "code",
      "metadata": {
        "id": "LNSKAGJv4xzX"
      },
      "source": [
        "class Skeleton_Dataset(Dataset):\n",
        "    def __init__(self, file_path, transform=None):\n",
        "        self.data = pd.read_csv(file_path)\n",
        "        self.transform = transform\n",
        "        self.labels = self.data.iloc[:,-1]\n",
        "        self.transform = transform\n",
        "\n",
        "\n",
        "    def __len__(self):\n",
        "        return len(self.data) \n",
        "    \n",
        "    \n",
        "    def __getitem__(self, idx):\n",
        "        item = np.asarray(self.data.iloc[idx,:-1]).reshape(45,75)\n",
        "        label = self.labels[idx]\n",
        "        if self.transform != None:\n",
        "            item = transform(item)\n",
        "            \n",
        "        \n",
        "\n",
        "        return (item, label) "
      ],
      "execution_count": null,
      "outputs": []
    },
    {
      "cell_type": "code",
      "metadata": {
        "id": "4kZdz1Ut4xzc"
      },
      "source": [
        "dataset = Skeleton_Dataset(file_path = \"/content/drive/My Drive/Нейронные сети/PyTorch/Урок 2/skels.csv\", transform=None)"
      ],
      "execution_count": null,
      "outputs": []
    },
    {
      "cell_type": "code",
      "metadata": {
        "id": "IUEuq4H64xzi"
      },
      "source": [
        "skel, lab = dataset.__getitem__(41)"
      ],
      "execution_count": null,
      "outputs": []
    },
    {
      "cell_type": "code",
      "metadata": {
        "id": "JE5yvSuh4xzn",
        "outputId": "a8de66be-a725-4414-ad82-9629f5bda8be",
        "colab": {
          "base_uri": "https://localhost:8080/"
        }
      },
      "source": [
        "LABELS[lab]"
      ],
      "execution_count": null,
      "outputs": [
        {
          "output_type": "execute_result",
          "data": {
            "application/vnd.google.colaboratory.intrinsic+json": {
              "type": "string"
            },
            "text/plain": [
              "'sitting down'"
            ]
          },
          "metadata": {
            "tags": []
          },
          "execution_count": 16
        }
      ]
    },
    {
      "cell_type": "code",
      "metadata": {
        "id": "FSI9ah5d4xzs",
        "outputId": "ce606d00-23e6-4d65-f143-3a1f968a7472",
        "colab": {
          "base_uri": "https://localhost:8080/"
        }
      },
      "source": [
        "skel.shape"
      ],
      "execution_count": null,
      "outputs": [
        {
          "output_type": "execute_result",
          "data": {
            "text/plain": [
              "(45, 75)"
            ]
          },
          "metadata": {
            "tags": []
          },
          "execution_count": 17
        }
      ]
    },
    {
      "cell_type": "code",
      "metadata": {
        "id": "oOI_asMl4xzx"
      },
      "source": [
        "skels_for_draw = skel.reshape(-1,25,3)"
      ],
      "execution_count": null,
      "outputs": []
    },
    {
      "cell_type": "markdown",
      "metadata": {
        "id": "hMiKn3zR4xz1"
      },
      "source": [
        "#### Немного визуализации данных:"
      ]
    },
    {
      "cell_type": "code",
      "metadata": {
        "scrolled": true,
        "id": "bGSIN-Ws4xz2",
        "outputId": "106e7e61-2153-474b-abdf-437119820859",
        "colab": {
          "base_uri": "https://localhost:8080/"
        }
      },
      "source": [
        "from mpl_toolkits.mplot3d import Axes3D  \n",
        "import mpl_toolkits.mplot3d as plt3d\n",
        "import matplotlib.animation as animation\n",
        "\n",
        "import matplotlib.pyplot as plt\n",
        "import numpy as np\n",
        "from time import sleep\n",
        "\n",
        "%matplotlib notebook\n",
        "\n",
        "\n",
        "bone_pairs = (\n",
        "    (1, 2), (2, 21), (3, 21), (4, 3), (5, 21), (6, 5),\n",
        "    (7, 6), (8, 7), (9, 21), (10, 9), (11, 10), (12, 11),\n",
        "    (13, 1), (14, 13), (15, 14), (16, 15), (17, 1), (18, 17),\n",
        "    (19, 18), (20, 19), (22, 23), (21, 21), (23, 8), (24, 25),(25, 12)\n",
        ")\n",
        "\n",
        "i = 0\n",
        "# for for_draw in skels_for_draw:\n",
        "i = i + 1\n",
        "fig = plt.figure()\n",
        "ax = fig.add_subplot(111, projection='3d')\n",
        "for_draw = skels_for_draw[10]\n",
        "\n",
        "for pair in bone_pairs:\n",
        "    xs = for_draw[pair[0]-1][0], for_draw[pair[1]-1][0]\n",
        "    ys = for_draw[pair[0]-1][1], for_draw[pair[1]-1][1]\n",
        "    zs = for_draw[pair[0]-1][2], for_draw[pair[1]-1][2]\n",
        "\n",
        "    line = plt3d.art3d.Line3D(zs, xs, ys)\n",
        "    ax.add_line(line)\n",
        "\n",
        "\n",
        "for x,y,z in for_draw:\n",
        "    ax.scatter(z, x, y, color='black', marker='s')\n",
        "\n",
        "    ax.set_ylim((-0.3, 0.3))\n",
        "    ax.set_zlim((-1.0, 0.25))\n",
        "    ax.set_xlim((3.0, 4.0))\n",
        "\n",
        "\n",
        "    ax.set_xlabel('X Label')\n",
        "    ax.set_ylabel('Y Label')\n",
        "    ax.set_zlabel('Z Label')\n",
        "\n",
        "\n",
        "    plt.show()\n",
        "\n",
        "#     plt.savefig('pics_1/test_' +str(i)+'.png', bbox_inches='tight')\n",
        "#     plt.clf()"
      ],
      "execution_count": null,
      "outputs": [
        {
          "output_type": "display_data",
          "data": {
            "application/javascript": [
              "/* Put everything inside the global mpl namespace */\n",
              "window.mpl = {};\n",
              "\n",
              "\n",
              "mpl.get_websocket_type = function() {\n",
              "    if (typeof(WebSocket) !== 'undefined') {\n",
              "        return WebSocket;\n",
              "    } else if (typeof(MozWebSocket) !== 'undefined') {\n",
              "        return MozWebSocket;\n",
              "    } else {\n",
              "        alert('Your browser does not have WebSocket support. ' +\n",
              "              'Please try Chrome, Safari or Firefox ≥ 6. ' +\n",
              "              'Firefox 4 and 5 are also supported but you ' +\n",
              "              'have to enable WebSockets in about:config.');\n",
              "    };\n",
              "}\n",
              "\n",
              "mpl.figure = function(figure_id, websocket, ondownload, parent_element) {\n",
              "    this.id = figure_id;\n",
              "\n",
              "    this.ws = websocket;\n",
              "\n",
              "    this.supports_binary = (this.ws.binaryType != undefined);\n",
              "\n",
              "    if (!this.supports_binary) {\n",
              "        var warnings = document.getElementById(\"mpl-warnings\");\n",
              "        if (warnings) {\n",
              "            warnings.style.display = 'block';\n",
              "            warnings.textContent = (\n",
              "                \"This browser does not support binary websocket messages. \" +\n",
              "                    \"Performance may be slow.\");\n",
              "        }\n",
              "    }\n",
              "\n",
              "    this.imageObj = new Image();\n",
              "\n",
              "    this.context = undefined;\n",
              "    this.message = undefined;\n",
              "    this.canvas = undefined;\n",
              "    this.rubberband_canvas = undefined;\n",
              "    this.rubberband_context = undefined;\n",
              "    this.format_dropdown = undefined;\n",
              "\n",
              "    this.image_mode = 'full';\n",
              "\n",
              "    this.root = $('<div/>');\n",
              "    this._root_extra_style(this.root)\n",
              "    this.root.attr('style', 'display: inline-block');\n",
              "\n",
              "    $(parent_element).append(this.root);\n",
              "\n",
              "    this._init_header(this);\n",
              "    this._init_canvas(this);\n",
              "    this._init_toolbar(this);\n",
              "\n",
              "    var fig = this;\n",
              "\n",
              "    this.waiting = false;\n",
              "\n",
              "    this.ws.onopen =  function () {\n",
              "            fig.send_message(\"supports_binary\", {value: fig.supports_binary});\n",
              "            fig.send_message(\"send_image_mode\", {});\n",
              "            if (mpl.ratio != 1) {\n",
              "                fig.send_message(\"set_dpi_ratio\", {'dpi_ratio': mpl.ratio});\n",
              "            }\n",
              "            fig.send_message(\"refresh\", {});\n",
              "        }\n",
              "\n",
              "    this.imageObj.onload = function() {\n",
              "            if (fig.image_mode == 'full') {\n",
              "                // Full images could contain transparency (where diff images\n",
              "                // almost always do), so we need to clear the canvas so that\n",
              "                // there is no ghosting.\n",
              "                fig.context.clearRect(0, 0, fig.canvas.width, fig.canvas.height);\n",
              "            }\n",
              "            fig.context.drawImage(fig.imageObj, 0, 0);\n",
              "        };\n",
              "\n",
              "    this.imageObj.onunload = function() {\n",
              "        fig.ws.close();\n",
              "    }\n",
              "\n",
              "    this.ws.onmessage = this._make_on_message_function(this);\n",
              "\n",
              "    this.ondownload = ondownload;\n",
              "}\n",
              "\n",
              "mpl.figure.prototype._init_header = function() {\n",
              "    var titlebar = $(\n",
              "        '<div class=\"ui-dialog-titlebar ui-widget-header ui-corner-all ' +\n",
              "        'ui-helper-clearfix\"/>');\n",
              "    var titletext = $(\n",
              "        '<div class=\"ui-dialog-title\" style=\"width: 100%; ' +\n",
              "        'text-align: center; padding: 3px;\"/>');\n",
              "    titlebar.append(titletext)\n",
              "    this.root.append(titlebar);\n",
              "    this.header = titletext[0];\n",
              "}\n",
              "\n",
              "\n",
              "\n",
              "mpl.figure.prototype._canvas_extra_style = function(canvas_div) {\n",
              "\n",
              "}\n",
              "\n",
              "\n",
              "mpl.figure.prototype._root_extra_style = function(canvas_div) {\n",
              "\n",
              "}\n",
              "\n",
              "mpl.figure.prototype._init_canvas = function() {\n",
              "    var fig = this;\n",
              "\n",
              "    var canvas_div = $('<div/>');\n",
              "\n",
              "    canvas_div.attr('style', 'position: relative; clear: both; outline: 0');\n",
              "\n",
              "    function canvas_keyboard_event(event) {\n",
              "        return fig.key_event(event, event['data']);\n",
              "    }\n",
              "\n",
              "    canvas_div.keydown('key_press', canvas_keyboard_event);\n",
              "    canvas_div.keyup('key_release', canvas_keyboard_event);\n",
              "    this.canvas_div = canvas_div\n",
              "    this._canvas_extra_style(canvas_div)\n",
              "    this.root.append(canvas_div);\n",
              "\n",
              "    var canvas = $('<canvas/>');\n",
              "    canvas.addClass('mpl-canvas');\n",
              "    canvas.attr('style', \"left: 0; top: 0; z-index: 0; outline: 0\")\n",
              "\n",
              "    this.canvas = canvas[0];\n",
              "    this.context = canvas[0].getContext(\"2d\");\n",
              "\n",
              "    var backingStore = this.context.backingStorePixelRatio ||\n",
              "\tthis.context.webkitBackingStorePixelRatio ||\n",
              "\tthis.context.mozBackingStorePixelRatio ||\n",
              "\tthis.context.msBackingStorePixelRatio ||\n",
              "\tthis.context.oBackingStorePixelRatio ||\n",
              "\tthis.context.backingStorePixelRatio || 1;\n",
              "\n",
              "    mpl.ratio = (window.devicePixelRatio || 1) / backingStore;\n",
              "\n",
              "    var rubberband = $('<canvas/>');\n",
              "    rubberband.attr('style', \"position: absolute; left: 0; top: 0; z-index: 1;\")\n",
              "\n",
              "    var pass_mouse_events = true;\n",
              "\n",
              "    canvas_div.resizable({\n",
              "        start: function(event, ui) {\n",
              "            pass_mouse_events = false;\n",
              "        },\n",
              "        resize: function(event, ui) {\n",
              "            fig.request_resize(ui.size.width, ui.size.height);\n",
              "        },\n",
              "        stop: function(event, ui) {\n",
              "            pass_mouse_events = true;\n",
              "            fig.request_resize(ui.size.width, ui.size.height);\n",
              "        },\n",
              "    });\n",
              "\n",
              "    function mouse_event_fn(event) {\n",
              "        if (pass_mouse_events)\n",
              "            return fig.mouse_event(event, event['data']);\n",
              "    }\n",
              "\n",
              "    rubberband.mousedown('button_press', mouse_event_fn);\n",
              "    rubberband.mouseup('button_release', mouse_event_fn);\n",
              "    // Throttle sequential mouse events to 1 every 20ms.\n",
              "    rubberband.mousemove('motion_notify', mouse_event_fn);\n",
              "\n",
              "    rubberband.mouseenter('figure_enter', mouse_event_fn);\n",
              "    rubberband.mouseleave('figure_leave', mouse_event_fn);\n",
              "\n",
              "    canvas_div.on(\"wheel\", function (event) {\n",
              "        event = event.originalEvent;\n",
              "        event['data'] = 'scroll'\n",
              "        if (event.deltaY < 0) {\n",
              "            event.step = 1;\n",
              "        } else {\n",
              "            event.step = -1;\n",
              "        }\n",
              "        mouse_event_fn(event);\n",
              "    });\n",
              "\n",
              "    canvas_div.append(canvas);\n",
              "    canvas_div.append(rubberband);\n",
              "\n",
              "    this.rubberband = rubberband;\n",
              "    this.rubberband_canvas = rubberband[0];\n",
              "    this.rubberband_context = rubberband[0].getContext(\"2d\");\n",
              "    this.rubberband_context.strokeStyle = \"#000000\";\n",
              "\n",
              "    this._resize_canvas = function(width, height) {\n",
              "        // Keep the size of the canvas, canvas container, and rubber band\n",
              "        // canvas in synch.\n",
              "        canvas_div.css('width', width)\n",
              "        canvas_div.css('height', height)\n",
              "\n",
              "        canvas.attr('width', width * mpl.ratio);\n",
              "        canvas.attr('height', height * mpl.ratio);\n",
              "        canvas.attr('style', 'width: ' + width + 'px; height: ' + height + 'px;');\n",
              "\n",
              "        rubberband.attr('width', width);\n",
              "        rubberband.attr('height', height);\n",
              "    }\n",
              "\n",
              "    // Set the figure to an initial 600x600px, this will subsequently be updated\n",
              "    // upon first draw.\n",
              "    this._resize_canvas(600, 600);\n",
              "\n",
              "    // Disable right mouse context menu.\n",
              "    $(this.rubberband_canvas).bind(\"contextmenu\",function(e){\n",
              "        return false;\n",
              "    });\n",
              "\n",
              "    function set_focus () {\n",
              "        canvas.focus();\n",
              "        canvas_div.focus();\n",
              "    }\n",
              "\n",
              "    window.setTimeout(set_focus, 100);\n",
              "}\n",
              "\n",
              "mpl.figure.prototype._init_toolbar = function() {\n",
              "    var fig = this;\n",
              "\n",
              "    var nav_element = $('<div/>');\n",
              "    nav_element.attr('style', 'width: 100%');\n",
              "    this.root.append(nav_element);\n",
              "\n",
              "    // Define a callback function for later on.\n",
              "    function toolbar_event(event) {\n",
              "        return fig.toolbar_button_onclick(event['data']);\n",
              "    }\n",
              "    function toolbar_mouse_event(event) {\n",
              "        return fig.toolbar_button_onmouseover(event['data']);\n",
              "    }\n",
              "\n",
              "    for(var toolbar_ind in mpl.toolbar_items) {\n",
              "        var name = mpl.toolbar_items[toolbar_ind][0];\n",
              "        var tooltip = mpl.toolbar_items[toolbar_ind][1];\n",
              "        var image = mpl.toolbar_items[toolbar_ind][2];\n",
              "        var method_name = mpl.toolbar_items[toolbar_ind][3];\n",
              "\n",
              "        if (!name) {\n",
              "            // put a spacer in here.\n",
              "            continue;\n",
              "        }\n",
              "        var button = $('<button/>');\n",
              "        button.addClass('ui-button ui-widget ui-state-default ui-corner-all ' +\n",
              "                        'ui-button-icon-only');\n",
              "        button.attr('role', 'button');\n",
              "        button.attr('aria-disabled', 'false');\n",
              "        button.click(method_name, toolbar_event);\n",
              "        button.mouseover(tooltip, toolbar_mouse_event);\n",
              "\n",
              "        var icon_img = $('<span/>');\n",
              "        icon_img.addClass('ui-button-icon-primary ui-icon');\n",
              "        icon_img.addClass(image);\n",
              "        icon_img.addClass('ui-corner-all');\n",
              "\n",
              "        var tooltip_span = $('<span/>');\n",
              "        tooltip_span.addClass('ui-button-text');\n",
              "        tooltip_span.html(tooltip);\n",
              "\n",
              "        button.append(icon_img);\n",
              "        button.append(tooltip_span);\n",
              "\n",
              "        nav_element.append(button);\n",
              "    }\n",
              "\n",
              "    var fmt_picker_span = $('<span/>');\n",
              "\n",
              "    var fmt_picker = $('<select/>');\n",
              "    fmt_picker.addClass('mpl-toolbar-option ui-widget ui-widget-content');\n",
              "    fmt_picker_span.append(fmt_picker);\n",
              "    nav_element.append(fmt_picker_span);\n",
              "    this.format_dropdown = fmt_picker[0];\n",
              "\n",
              "    for (var ind in mpl.extensions) {\n",
              "        var fmt = mpl.extensions[ind];\n",
              "        var option = $(\n",
              "            '<option/>', {selected: fmt === mpl.default_extension}).html(fmt);\n",
              "        fmt_picker.append(option);\n",
              "    }\n",
              "\n",
              "    // Add hover states to the ui-buttons\n",
              "    $( \".ui-button\" ).hover(\n",
              "        function() { $(this).addClass(\"ui-state-hover\");},\n",
              "        function() { $(this).removeClass(\"ui-state-hover\");}\n",
              "    );\n",
              "\n",
              "    var status_bar = $('<span class=\"mpl-message\"/>');\n",
              "    nav_element.append(status_bar);\n",
              "    this.message = status_bar[0];\n",
              "}\n",
              "\n",
              "mpl.figure.prototype.request_resize = function(x_pixels, y_pixels) {\n",
              "    // Request matplotlib to resize the figure. Matplotlib will then trigger a resize in the client,\n",
              "    // which will in turn request a refresh of the image.\n",
              "    this.send_message('resize', {'width': x_pixels, 'height': y_pixels});\n",
              "}\n",
              "\n",
              "mpl.figure.prototype.send_message = function(type, properties) {\n",
              "    properties['type'] = type;\n",
              "    properties['figure_id'] = this.id;\n",
              "    this.ws.send(JSON.stringify(properties));\n",
              "}\n",
              "\n",
              "mpl.figure.prototype.send_draw_message = function() {\n",
              "    if (!this.waiting) {\n",
              "        this.waiting = true;\n",
              "        this.ws.send(JSON.stringify({type: \"draw\", figure_id: this.id}));\n",
              "    }\n",
              "}\n",
              "\n",
              "\n",
              "mpl.figure.prototype.handle_save = function(fig, msg) {\n",
              "    var format_dropdown = fig.format_dropdown;\n",
              "    var format = format_dropdown.options[format_dropdown.selectedIndex].value;\n",
              "    fig.ondownload(fig, format);\n",
              "}\n",
              "\n",
              "\n",
              "mpl.figure.prototype.handle_resize = function(fig, msg) {\n",
              "    var size = msg['size'];\n",
              "    if (size[0] != fig.canvas.width || size[1] != fig.canvas.height) {\n",
              "        fig._resize_canvas(size[0], size[1]);\n",
              "        fig.send_message(\"refresh\", {});\n",
              "    };\n",
              "}\n",
              "\n",
              "mpl.figure.prototype.handle_rubberband = function(fig, msg) {\n",
              "    var x0 = msg['x0'] / mpl.ratio;\n",
              "    var y0 = (fig.canvas.height - msg['y0']) / mpl.ratio;\n",
              "    var x1 = msg['x1'] / mpl.ratio;\n",
              "    var y1 = (fig.canvas.height - msg['y1']) / mpl.ratio;\n",
              "    x0 = Math.floor(x0) + 0.5;\n",
              "    y0 = Math.floor(y0) + 0.5;\n",
              "    x1 = Math.floor(x1) + 0.5;\n",
              "    y1 = Math.floor(y1) + 0.5;\n",
              "    var min_x = Math.min(x0, x1);\n",
              "    var min_y = Math.min(y0, y1);\n",
              "    var width = Math.abs(x1 - x0);\n",
              "    var height = Math.abs(y1 - y0);\n",
              "\n",
              "    fig.rubberband_context.clearRect(\n",
              "        0, 0, fig.canvas.width / mpl.ratio, fig.canvas.height / mpl.ratio);\n",
              "\n",
              "    fig.rubberband_context.strokeRect(min_x, min_y, width, height);\n",
              "}\n",
              "\n",
              "mpl.figure.prototype.handle_figure_label = function(fig, msg) {\n",
              "    // Updates the figure title.\n",
              "    fig.header.textContent = msg['label'];\n",
              "}\n",
              "\n",
              "mpl.figure.prototype.handle_cursor = function(fig, msg) {\n",
              "    var cursor = msg['cursor'];\n",
              "    switch(cursor)\n",
              "    {\n",
              "    case 0:\n",
              "        cursor = 'pointer';\n",
              "        break;\n",
              "    case 1:\n",
              "        cursor = 'default';\n",
              "        break;\n",
              "    case 2:\n",
              "        cursor = 'crosshair';\n",
              "        break;\n",
              "    case 3:\n",
              "        cursor = 'move';\n",
              "        break;\n",
              "    }\n",
              "    fig.rubberband_canvas.style.cursor = cursor;\n",
              "}\n",
              "\n",
              "mpl.figure.prototype.handle_message = function(fig, msg) {\n",
              "    fig.message.textContent = msg['message'];\n",
              "}\n",
              "\n",
              "mpl.figure.prototype.handle_draw = function(fig, msg) {\n",
              "    // Request the server to send over a new figure.\n",
              "    fig.send_draw_message();\n",
              "}\n",
              "\n",
              "mpl.figure.prototype.handle_image_mode = function(fig, msg) {\n",
              "    fig.image_mode = msg['mode'];\n",
              "}\n",
              "\n",
              "mpl.figure.prototype.updated_canvas_event = function() {\n",
              "    // Called whenever the canvas gets updated.\n",
              "    this.send_message(\"ack\", {});\n",
              "}\n",
              "\n",
              "// A function to construct a web socket function for onmessage handling.\n",
              "// Called in the figure constructor.\n",
              "mpl.figure.prototype._make_on_message_function = function(fig) {\n",
              "    return function socket_on_message(evt) {\n",
              "        if (evt.data instanceof Blob) {\n",
              "            /* FIXME: We get \"Resource interpreted as Image but\n",
              "             * transferred with MIME type text/plain:\" errors on\n",
              "             * Chrome.  But how to set the MIME type?  It doesn't seem\n",
              "             * to be part of the websocket stream */\n",
              "            evt.data.type = \"image/png\";\n",
              "\n",
              "            /* Free the memory for the previous frames */\n",
              "            if (fig.imageObj.src) {\n",
              "                (window.URL || window.webkitURL).revokeObjectURL(\n",
              "                    fig.imageObj.src);\n",
              "            }\n",
              "\n",
              "            fig.imageObj.src = (window.URL || window.webkitURL).createObjectURL(\n",
              "                evt.data);\n",
              "            fig.updated_canvas_event();\n",
              "            fig.waiting = false;\n",
              "            return;\n",
              "        }\n",
              "        else if (typeof evt.data === 'string' && evt.data.slice(0, 21) == \"data:image/png;base64\") {\n",
              "            fig.imageObj.src = evt.data;\n",
              "            fig.updated_canvas_event();\n",
              "            fig.waiting = false;\n",
              "            return;\n",
              "        }\n",
              "\n",
              "        var msg = JSON.parse(evt.data);\n",
              "        var msg_type = msg['type'];\n",
              "\n",
              "        // Call the  \"handle_{type}\" callback, which takes\n",
              "        // the figure and JSON message as its only arguments.\n",
              "        try {\n",
              "            var callback = fig[\"handle_\" + msg_type];\n",
              "        } catch (e) {\n",
              "            console.log(\"No handler for the '\" + msg_type + \"' message type: \", msg);\n",
              "            return;\n",
              "        }\n",
              "\n",
              "        if (callback) {\n",
              "            try {\n",
              "                // console.log(\"Handling '\" + msg_type + \"' message: \", msg);\n",
              "                callback(fig, msg);\n",
              "            } catch (e) {\n",
              "                console.log(\"Exception inside the 'handler_\" + msg_type + \"' callback:\", e, e.stack, msg);\n",
              "            }\n",
              "        }\n",
              "    };\n",
              "}\n",
              "\n",
              "// from http://stackoverflow.com/questions/1114465/getting-mouse-location-in-canvas\n",
              "mpl.findpos = function(e) {\n",
              "    //this section is from http://www.quirksmode.org/js/events_properties.html\n",
              "    var targ;\n",
              "    if (!e)\n",
              "        e = window.event;\n",
              "    if (e.target)\n",
              "        targ = e.target;\n",
              "    else if (e.srcElement)\n",
              "        targ = e.srcElement;\n",
              "    if (targ.nodeType == 3) // defeat Safari bug\n",
              "        targ = targ.parentNode;\n",
              "\n",
              "    // jQuery normalizes the pageX and pageY\n",
              "    // pageX,Y are the mouse positions relative to the document\n",
              "    // offset() returns the position of the element relative to the document\n",
              "    var x = e.pageX - $(targ).offset().left;\n",
              "    var y = e.pageY - $(targ).offset().top;\n",
              "\n",
              "    return {\"x\": x, \"y\": y};\n",
              "};\n",
              "\n",
              "/*\n",
              " * return a copy of an object with only non-object keys\n",
              " * we need this to avoid circular references\n",
              " * http://stackoverflow.com/a/24161582/3208463\n",
              " */\n",
              "function simpleKeys (original) {\n",
              "  return Object.keys(original).reduce(function (obj, key) {\n",
              "    if (typeof original[key] !== 'object')\n",
              "        obj[key] = original[key]\n",
              "    return obj;\n",
              "  }, {});\n",
              "}\n",
              "\n",
              "mpl.figure.prototype.mouse_event = function(event, name) {\n",
              "    var canvas_pos = mpl.findpos(event)\n",
              "\n",
              "    if (name === 'button_press')\n",
              "    {\n",
              "        this.canvas.focus();\n",
              "        this.canvas_div.focus();\n",
              "    }\n",
              "\n",
              "    var x = canvas_pos.x * mpl.ratio;\n",
              "    var y = canvas_pos.y * mpl.ratio;\n",
              "\n",
              "    this.send_message(name, {x: x, y: y, button: event.button,\n",
              "                             step: event.step,\n",
              "                             guiEvent: simpleKeys(event)});\n",
              "\n",
              "    /* This prevents the web browser from automatically changing to\n",
              "     * the text insertion cursor when the button is pressed.  We want\n",
              "     * to control all of the cursor setting manually through the\n",
              "     * 'cursor' event from matplotlib */\n",
              "    event.preventDefault();\n",
              "    return false;\n",
              "}\n",
              "\n",
              "mpl.figure.prototype._key_event_extra = function(event, name) {\n",
              "    // Handle any extra behaviour associated with a key event\n",
              "}\n",
              "\n",
              "mpl.figure.prototype.key_event = function(event, name) {\n",
              "\n",
              "    // Prevent repeat events\n",
              "    if (name == 'key_press')\n",
              "    {\n",
              "        if (event.which === this._key)\n",
              "            return;\n",
              "        else\n",
              "            this._key = event.which;\n",
              "    }\n",
              "    if (name == 'key_release')\n",
              "        this._key = null;\n",
              "\n",
              "    var value = '';\n",
              "    if (event.ctrlKey && event.which != 17)\n",
              "        value += \"ctrl+\";\n",
              "    if (event.altKey && event.which != 18)\n",
              "        value += \"alt+\";\n",
              "    if (event.shiftKey && event.which != 16)\n",
              "        value += \"shift+\";\n",
              "\n",
              "    value += 'k';\n",
              "    value += event.which.toString();\n",
              "\n",
              "    this._key_event_extra(event, name);\n",
              "\n",
              "    this.send_message(name, {key: value,\n",
              "                             guiEvent: simpleKeys(event)});\n",
              "    return false;\n",
              "}\n",
              "\n",
              "mpl.figure.prototype.toolbar_button_onclick = function(name) {\n",
              "    if (name == 'download') {\n",
              "        this.handle_save(this, null);\n",
              "    } else {\n",
              "        this.send_message(\"toolbar_button\", {name: name});\n",
              "    }\n",
              "};\n",
              "\n",
              "mpl.figure.prototype.toolbar_button_onmouseover = function(tooltip) {\n",
              "    this.message.textContent = tooltip;\n",
              "};\n",
              "mpl.toolbar_items = [[\"Home\", \"Reset original view\", \"fa fa-home icon-home\", \"home\"], [\"Back\", \"Back to previous view\", \"fa fa-arrow-left icon-arrow-left\", \"back\"], [\"Forward\", \"Forward to next view\", \"fa fa-arrow-right icon-arrow-right\", \"forward\"], [\"\", \"\", \"\", \"\"], [\"Pan\", \"Pan axes with left mouse, zoom with right\", \"fa fa-arrows icon-move\", \"pan\"], [\"Zoom\", \"Zoom to rectangle\", \"fa fa-square-o icon-check-empty\", \"zoom\"], [\"\", \"\", \"\", \"\"], [\"Download\", \"Download plot\", \"fa fa-floppy-o icon-save\", \"download\"]];\n",
              "\n",
              "mpl.extensions = [\"eps\", \"jpeg\", \"pdf\", \"png\", \"ps\", \"raw\", \"svg\", \"tif\"];\n",
              "\n",
              "mpl.default_extension = \"png\";var comm_websocket_adapter = function(comm) {\n",
              "    // Create a \"websocket\"-like object which calls the given IPython comm\n",
              "    // object with the appropriate methods. Currently this is a non binary\n",
              "    // socket, so there is still some room for performance tuning.\n",
              "    var ws = {};\n",
              "\n",
              "    ws.close = function() {\n",
              "        comm.close()\n",
              "    };\n",
              "    ws.send = function(m) {\n",
              "        //console.log('sending', m);\n",
              "        comm.send(m);\n",
              "    };\n",
              "    // Register the callback with on_msg.\n",
              "    comm.on_msg(function(msg) {\n",
              "        //console.log('receiving', msg['content']['data'], msg);\n",
              "        // Pass the mpl event to the overridden (by mpl) onmessage function.\n",
              "        ws.onmessage(msg['content']['data'])\n",
              "    });\n",
              "    return ws;\n",
              "}\n",
              "\n",
              "mpl.mpl_figure_comm = function(comm, msg) {\n",
              "    // This is the function which gets called when the mpl process\n",
              "    // starts-up an IPython Comm through the \"matplotlib\" channel.\n",
              "\n",
              "    var id = msg.content.data.id;\n",
              "    // Get hold of the div created by the display call when the Comm\n",
              "    // socket was opened in Python.\n",
              "    var element = $(\"#\" + id);\n",
              "    var ws_proxy = comm_websocket_adapter(comm)\n",
              "\n",
              "    function ondownload(figure, format) {\n",
              "        window.open(figure.imageObj.src);\n",
              "    }\n",
              "\n",
              "    var fig = new mpl.figure(id, ws_proxy,\n",
              "                           ondownload,\n",
              "                           element.get(0));\n",
              "\n",
              "    // Call onopen now - mpl needs it, as it is assuming we've passed it a real\n",
              "    // web socket which is closed, not our websocket->open comm proxy.\n",
              "    ws_proxy.onopen();\n",
              "\n",
              "    fig.parent_element = element.get(0);\n",
              "    fig.cell_info = mpl.find_output_cell(\"<div id='\" + id + \"'></div>\");\n",
              "    if (!fig.cell_info) {\n",
              "        console.error(\"Failed to find cell for figure\", id, fig);\n",
              "        return;\n",
              "    }\n",
              "\n",
              "    var output_index = fig.cell_info[2]\n",
              "    var cell = fig.cell_info[0];\n",
              "\n",
              "};\n",
              "\n",
              "mpl.figure.prototype.handle_close = function(fig, msg) {\n",
              "    var width = fig.canvas.width/mpl.ratio\n",
              "    fig.root.unbind('remove')\n",
              "\n",
              "    // Update the output cell to use the data from the current canvas.\n",
              "    fig.push_to_output();\n",
              "    var dataURL = fig.canvas.toDataURL();\n",
              "    // Re-enable the keyboard manager in IPython - without this line, in FF,\n",
              "    // the notebook keyboard shortcuts fail.\n",
              "    IPython.keyboard_manager.enable()\n",
              "    $(fig.parent_element).html('<img src=\"' + dataURL + '\" width=\"' + width + '\">');\n",
              "    fig.close_ws(fig, msg);\n",
              "}\n",
              "\n",
              "mpl.figure.prototype.close_ws = function(fig, msg){\n",
              "    fig.send_message('closing', msg);\n",
              "    // fig.ws.close()\n",
              "}\n",
              "\n",
              "mpl.figure.prototype.push_to_output = function(remove_interactive) {\n",
              "    // Turn the data on the canvas into data in the output cell.\n",
              "    var width = this.canvas.width/mpl.ratio\n",
              "    var dataURL = this.canvas.toDataURL();\n",
              "    this.cell_info[1]['text/html'] = '<img src=\"' + dataURL + '\" width=\"' + width + '\">';\n",
              "}\n",
              "\n",
              "mpl.figure.prototype.updated_canvas_event = function() {\n",
              "    // Tell IPython that the notebook contents must change.\n",
              "    IPython.notebook.set_dirty(true);\n",
              "    this.send_message(\"ack\", {});\n",
              "    var fig = this;\n",
              "    // Wait a second, then push the new image to the DOM so\n",
              "    // that it is saved nicely (might be nice to debounce this).\n",
              "    setTimeout(function () { fig.push_to_output() }, 1000);\n",
              "}\n",
              "\n",
              "mpl.figure.prototype._init_toolbar = function() {\n",
              "    var fig = this;\n",
              "\n",
              "    var nav_element = $('<div/>');\n",
              "    nav_element.attr('style', 'width: 100%');\n",
              "    this.root.append(nav_element);\n",
              "\n",
              "    // Define a callback function for later on.\n",
              "    function toolbar_event(event) {\n",
              "        return fig.toolbar_button_onclick(event['data']);\n",
              "    }\n",
              "    function toolbar_mouse_event(event) {\n",
              "        return fig.toolbar_button_onmouseover(event['data']);\n",
              "    }\n",
              "\n",
              "    for(var toolbar_ind in mpl.toolbar_items){\n",
              "        var name = mpl.toolbar_items[toolbar_ind][0];\n",
              "        var tooltip = mpl.toolbar_items[toolbar_ind][1];\n",
              "        var image = mpl.toolbar_items[toolbar_ind][2];\n",
              "        var method_name = mpl.toolbar_items[toolbar_ind][3];\n",
              "\n",
              "        if (!name) { continue; };\n",
              "\n",
              "        var button = $('<button class=\"btn btn-default\" href=\"#\" title=\"' + name + '\"><i class=\"fa ' + image + ' fa-lg\"></i></button>');\n",
              "        button.click(method_name, toolbar_event);\n",
              "        button.mouseover(tooltip, toolbar_mouse_event);\n",
              "        nav_element.append(button);\n",
              "    }\n",
              "\n",
              "    // Add the status bar.\n",
              "    var status_bar = $('<span class=\"mpl-message\" style=\"text-align:right; float: right;\"/>');\n",
              "    nav_element.append(status_bar);\n",
              "    this.message = status_bar[0];\n",
              "\n",
              "    // Add the close button to the window.\n",
              "    var buttongrp = $('<div class=\"btn-group inline pull-right\"></div>');\n",
              "    var button = $('<button class=\"btn btn-mini btn-primary\" href=\"#\" title=\"Stop Interaction\"><i class=\"fa fa-power-off icon-remove icon-large\"></i></button>');\n",
              "    button.click(function (evt) { fig.handle_close(fig, {}); } );\n",
              "    button.mouseover('Stop Interaction', toolbar_mouse_event);\n",
              "    buttongrp.append(button);\n",
              "    var titlebar = this.root.find($('.ui-dialog-titlebar'));\n",
              "    titlebar.prepend(buttongrp);\n",
              "}\n",
              "\n",
              "mpl.figure.prototype._root_extra_style = function(el){\n",
              "    var fig = this\n",
              "    el.on(\"remove\", function(){\n",
              "\tfig.close_ws(fig, {});\n",
              "    });\n",
              "}\n",
              "\n",
              "mpl.figure.prototype._canvas_extra_style = function(el){\n",
              "    // this is important to make the div 'focusable\n",
              "    el.attr('tabindex', 0)\n",
              "    // reach out to IPython and tell the keyboard manager to turn it's self\n",
              "    // off when our div gets focus\n",
              "\n",
              "    // location in version 3\n",
              "    if (IPython.notebook.keyboard_manager) {\n",
              "        IPython.notebook.keyboard_manager.register_events(el);\n",
              "    }\n",
              "    else {\n",
              "        // location in version 2\n",
              "        IPython.keyboard_manager.register_events(el);\n",
              "    }\n",
              "\n",
              "}\n",
              "\n",
              "mpl.figure.prototype._key_event_extra = function(event, name) {\n",
              "    var manager = IPython.notebook.keyboard_manager;\n",
              "    if (!manager)\n",
              "        manager = IPython.keyboard_manager;\n",
              "\n",
              "    // Check for shift+enter\n",
              "    if (event.shiftKey && event.which == 13) {\n",
              "        this.canvas_div.blur();\n",
              "        // select the cell after this one\n",
              "        var index = IPython.notebook.find_cell_index(this.cell_info[0]);\n",
              "        IPython.notebook.select(index + 1);\n",
              "    }\n",
              "}\n",
              "\n",
              "mpl.figure.prototype.handle_save = function(fig, msg) {\n",
              "    fig.ondownload(fig, null);\n",
              "}\n",
              "\n",
              "\n",
              "mpl.find_output_cell = function(html_output) {\n",
              "    // Return the cell and output element which can be found *uniquely* in the notebook.\n",
              "    // Note - this is a bit hacky, but it is done because the \"notebook_saving.Notebook\"\n",
              "    // IPython event is triggered only after the cells have been serialised, which for\n",
              "    // our purposes (turning an active figure into a static one), is too late.\n",
              "    var cells = IPython.notebook.get_cells();\n",
              "    var ncells = cells.length;\n",
              "    for (var i=0; i<ncells; i++) {\n",
              "        var cell = cells[i];\n",
              "        if (cell.cell_type === 'code'){\n",
              "            for (var j=0; j<cell.output_area.outputs.length; j++) {\n",
              "                var data = cell.output_area.outputs[j];\n",
              "                if (data.data) {\n",
              "                    // IPython >= 3 moved mimebundle to data attribute of output\n",
              "                    data = data.data;\n",
              "                }\n",
              "                if (data['text/html'] == html_output) {\n",
              "                    return [cell, data, j];\n",
              "                }\n",
              "            }\n",
              "        }\n",
              "    }\n",
              "}\n",
              "\n",
              "// Register the function which deals with the matplotlib target/channel.\n",
              "// The kernel may be null if the page has been refreshed.\n",
              "if (IPython.notebook.kernel != null) {\n",
              "    IPython.notebook.kernel.comm_manager.register_target('matplotlib', mpl.mpl_figure_comm);\n",
              "}\n"
            ],
            "text/plain": [
              "<IPython.core.display.Javascript object>"
            ]
          },
          "metadata": {
            "tags": []
          }
        },
        {
          "output_type": "display_data",
          "data": {
            "text/html": [
              "<div id='bdeb6393-6d8c-4fc7-bf84-42e767cddc0a'></div>"
            ],
            "text/plain": [
              "<IPython.core.display.HTML object>"
            ]
          },
          "metadata": {
            "tags": []
          }
        }
      ]
    },
    {
      "cell_type": "markdown",
      "metadata": {
        "id": "2TYSsI9H4xz7"
      },
      "source": [
        "![sit.gif](attachment:sit.gif)"
      ]
    },
    {
      "cell_type": "markdown",
      "metadata": {
        "id": "XDP636jz4xz8"
      },
      "source": [
        "![clap.gif](attachment:clap.gif)"
      ]
    },
    {
      "cell_type": "code",
      "metadata": {
        "id": "RbOw49pK4xz9"
      },
      "source": [
        "train_dataset, test_dataset = torch.utils.data.random_split(dataset, [int(0.75*len(dataset)),int(0.25*len(dataset))])\n",
        "train_loader = DataLoader(train_dataset, batch_size = 16, shuffle=True)\n",
        "test_loader = DataLoader(test_dataset, batch_size = 1, shuffle=True)"
      ],
      "execution_count": null,
      "outputs": []
    },
    {
      "cell_type": "code",
      "metadata": {
        "scrolled": true,
        "id": "kUfzJyVf4x0C",
        "outputId": "37874b50-14b7-45ed-8555-f3c9ac26be87",
        "colab": {
          "base_uri": "https://localhost:8080/"
        }
      },
      "source": [
        "n_hidden = 128\n",
        "n_joints = 25*3\n",
        "n_categories = len(LABELS)\n",
        "n_layer = 2\n",
        "rnn = LSTM_net(n_joints,n_hidden,n_categories,n_layer)\n",
        "rnn.to(device)"
      ],
      "execution_count": null,
      "outputs": [
        {
          "output_type": "execute_result",
          "data": {
            "text/plain": [
              "LSTM_net(\n",
              "  (lstm): LSTM(75, 128, num_layers=2, batch_first=True)\n",
              "  (dr): Dropout2d(p=0.1, inplace=False)\n",
              "  (fc): Linear(in_features=128, out_features=5, bias=True)\n",
              ")"
            ]
          },
          "metadata": {
            "tags": []
          },
          "execution_count": 21
        }
      ]
    },
    {
      "cell_type": "code",
      "metadata": {
        "id": "wuAPVMXk4x0J"
      },
      "source": [
        "def categoryFromOutput(output):\n",
        "    top_n, top_i = output.topk(1)\n",
        "    category_i = top_i[0].item()\n",
        "#     print(output.topk(5))\n",
        "    return LABELS[category_i], category_i\n",
        "\n",
        "def timeSince(since):\n",
        "    now = time.time()\n",
        "    s = now - since\n",
        "    m = math.floor(s / 60)\n",
        "    s -= m * 60\n",
        "    return '%dm %ds' % (m, s)"
      ],
      "execution_count": null,
      "outputs": []
    },
    {
      "cell_type": "code",
      "metadata": {
        "id": "omipixOJ4x0N",
        "outputId": "9eea7513-4457-43d2-cb75-18edc925232b",
        "colab": {
          "base_uri": "https://localhost:8080/"
        }
      },
      "source": [
        "output = rnn(sket_tensor.to(device))"
      ],
      "execution_count": null,
      "outputs": [
        {
          "output_type": "error",
          "ename": "NameError",
          "evalue": "ignored",
          "traceback": [
            "\u001b[0;31m---------------------------------------------------------------------------\u001b[0m",
            "\u001b[0;31mNameError\u001b[0m                                 Traceback (most recent call last)",
            "\u001b[0;32m<ipython-input-23-a23ab752dafc>\u001b[0m in \u001b[0;36m<module>\u001b[0;34m()\u001b[0m\n\u001b[0;32m----> 1\u001b[0;31m \u001b[0moutput\u001b[0m \u001b[0;34m=\u001b[0m \u001b[0mrnn\u001b[0m\u001b[0;34m(\u001b[0m\u001b[0msket_tensor\u001b[0m\u001b[0;34m.\u001b[0m\u001b[0mto\u001b[0m\u001b[0;34m(\u001b[0m\u001b[0mdevice\u001b[0m\u001b[0;34m)\u001b[0m\u001b[0;34m)\u001b[0m\u001b[0;34m\u001b[0m\u001b[0;34m\u001b[0m\u001b[0m\n\u001b[0m",
            "\u001b[0;31mNameError\u001b[0m: name 'sket_tensor' is not defined"
          ]
        }
      ]
    },
    {
      "cell_type": "code",
      "metadata": {
        "id": "ClZgHBmr4x0T"
      },
      "source": [
        "output.topk(5)"
      ],
      "execution_count": null,
      "outputs": []
    },
    {
      "cell_type": "code",
      "metadata": {
        "scrolled": true,
        "id": "l2XiBXbK4x0b"
      },
      "source": [
        "from torch import optim\n",
        "import time\n",
        "import math\n",
        "\n",
        "criterion = nn.CrossEntropyLoss()\n",
        "learning_rate = 0.0007\n",
        "optimizer = optim.SGD(rnn.parameters(),lr=learning_rate,momentum=0.9)\n",
        "\n",
        "all_losses = []\n",
        "start = time.time()\n",
        "counter = 0\n",
        "for epoch in range(600):  \n",
        "    current_loss = 0\n",
        "    running_loss = 0.0\n",
        "    for i, data in enumerate(train_loader, 0):\n",
        "        \n",
        "        inputs, labels = data[0].to(device), data[1].to(device)\n",
        "        optimizer.zero_grad()\n",
        "    \n",
        "        output = rnn(inputs.float())\n",
        "        loss = criterion(output, labels)\n",
        "        loss.backward()\n",
        "        optimizer.step() \n",
        "\n",
        "\n",
        "        current_loss += loss.item()\n",
        "        category = LABELS[int(labels[0])]\n",
        "\n",
        "        if counter % 500 == 0:\n",
        "            guess, guess_i = categoryFromOutput(output)\n",
        "            correct = '✓' if guess == category else '✗ (%s)' % category\n",
        "            print('epoch : %d iter : %d (%s) %.4f  / %s %s' % (epoch, i, timeSince(start), loss, guess, correct))\n",
        "\n",
        "        \n",
        "        counter = counter + 1\n",
        "    if counter % 100 == 0:\n",
        "        all_losses.append(current_loss / 25)\n",
        "        current_loss = 0\n",
        "    "
      ],
      "execution_count": null,
      "outputs": []
    },
    {
      "cell_type": "code",
      "metadata": {
        "scrolled": true,
        "id": "cZfZ7D7P4x0l",
        "outputId": "efaea210-cb1a-418a-f0dc-2a4d5dbcd890",
        "colab": {
          "base_uri": "https://localhost:8080/"
        }
      },
      "source": [
        "%matplotlib notebook\n",
        "plt.plot(list(range(0,len(all_losses))),all_losses)\n",
        "plt.show()"
      ],
      "execution_count": null,
      "outputs": [
        {
          "output_type": "error",
          "ename": "NameError",
          "evalue": "ignored",
          "traceback": [
            "\u001b[0;31m---------------------------------------------------------------------------\u001b[0m",
            "\u001b[0;31mNameError\u001b[0m                                 Traceback (most recent call last)",
            "\u001b[0;32m<ipython-input-24-6c53a645d92f>\u001b[0m in \u001b[0;36m<module>\u001b[0;34m()\u001b[0m\n\u001b[1;32m      1\u001b[0m \u001b[0mget_ipython\u001b[0m\u001b[0;34m(\u001b[0m\u001b[0;34m)\u001b[0m\u001b[0;34m.\u001b[0m\u001b[0mmagic\u001b[0m\u001b[0;34m(\u001b[0m\u001b[0;34m'matplotlib notebook'\u001b[0m\u001b[0;34m)\u001b[0m\u001b[0;34m\u001b[0m\u001b[0;34m\u001b[0m\u001b[0m\n\u001b[0;32m----> 2\u001b[0;31m \u001b[0mplt\u001b[0m\u001b[0;34m.\u001b[0m\u001b[0mplot\u001b[0m\u001b[0;34m(\u001b[0m\u001b[0mlist\u001b[0m\u001b[0;34m(\u001b[0m\u001b[0mrange\u001b[0m\u001b[0;34m(\u001b[0m\u001b[0;36m0\u001b[0m\u001b[0;34m,\u001b[0m\u001b[0mlen\u001b[0m\u001b[0;34m(\u001b[0m\u001b[0mall_losses\u001b[0m\u001b[0;34m)\u001b[0m\u001b[0;34m)\u001b[0m\u001b[0;34m)\u001b[0m\u001b[0;34m,\u001b[0m\u001b[0mall_losses\u001b[0m\u001b[0;34m)\u001b[0m\u001b[0;34m\u001b[0m\u001b[0;34m\u001b[0m\u001b[0m\n\u001b[0m\u001b[1;32m      3\u001b[0m \u001b[0mplt\u001b[0m\u001b[0;34m.\u001b[0m\u001b[0mshow\u001b[0m\u001b[0;34m(\u001b[0m\u001b[0;34m)\u001b[0m\u001b[0;34m\u001b[0m\u001b[0;34m\u001b[0m\u001b[0m\n",
            "\u001b[0;31mNameError\u001b[0m: name 'all_losses' is not defined"
          ]
        }
      ]
    },
    {
      "cell_type": "code",
      "metadata": {
        "id": "cLOLzj964x0q",
        "outputId": "07faa9ab-284a-4569-ff7d-dec6e547635d",
        "colab": {
          "base_uri": "https://localhost:8080/"
        }
      },
      "source": [
        "total = 0\n",
        "right = 0\n",
        "counter = 0\n",
        "\n",
        "rnn.eval()\n",
        "with torch.no_grad():\n",
        "    for i, data in enumerate(test_loader, 0):\n",
        "        counter = counter + 1\n",
        "        inputs, labels = data[0].to(device), data[1].to(device)  \n",
        "        output = rnn(inputs.float())\n",
        "        guess, guess_i = categoryFromOutput(output)\n",
        "        category = LABELS[int(labels[0])]\n",
        "        \n",
        "        if guess == category:\n",
        "            right = right + 1\n",
        "\n",
        "\n",
        "print('Accuracy of the network:  ',  (100 * right / counter))"
      ],
      "execution_count": null,
      "outputs": [
        {
          "output_type": "stream",
          "text": [
            "Accuracy of the network:   13.836477987421384\n"
          ],
          "name": "stdout"
        }
      ]
    },
    {
      "cell_type": "markdown",
      "metadata": {
        "id": "0RZ1_IzZ4x0v"
      },
      "source": [
        "### Модуль transform"
      ]
    },
    {
      "cell_type": "markdown",
      "metadata": {
        "id": "oNUNiwVP4x0w"
      },
      "source": [
        "https://pytorch.org/docs/stable/torchvision/transforms.html"
      ]
    },
    {
      "cell_type": "code",
      "metadata": {
        "id": "S0vAcnHl4x0x"
      },
      "source": [
        "from PIL import Image\n",
        "import matplotlib.pyplot as plt\n",
        "%matplotlib inline\n",
        "\n",
        "\n",
        "img = Image.open('/content/drive/My Drive/Нейронные сети/PyTorch/Урок 2/LSTM/LSTM/Logo_main_black.png')"
      ],
      "execution_count": null,
      "outputs": []
    },
    {
      "cell_type": "code",
      "metadata": {
        "id": "ARxFbOnd4x01",
        "outputId": "0f4821e1-ef08-4574-f8cb-92f981232287",
        "colab": {
          "base_uri": "https://localhost:8080/"
        }
      },
      "source": [
        "type(img)"
      ],
      "execution_count": null,
      "outputs": [
        {
          "output_type": "execute_result",
          "data": {
            "text/plain": [
              "PIL.PngImagePlugin.PngImageFile"
            ]
          },
          "metadata": {
            "tags": []
          },
          "execution_count": 32
        }
      ]
    },
    {
      "cell_type": "code",
      "metadata": {
        "id": "eSdj1ksl4x05",
        "outputId": "2de059d7-49c0-4e22-8f86-9e9b17a3a611",
        "colab": {
          "base_uri": "https://localhost:8080/"
        }
      },
      "source": [
        "plt.imshow(img)\n",
        "plt.show()"
      ],
      "execution_count": null,
      "outputs": [
        {
          "output_type": "display_data",
          "data": {
            "image/png": "[encoded data removed]",
            "text/plain": [
              "<Figure size 432x288 with 1 Axes>"
            ]
          },
          "metadata": {
            "tags": [],
            "needs_background": "light"
          }
        }
      ]
    },
    {
      "cell_type": "code",
      "metadata": {
        "id": "1yu3fGwk4x08",
        "outputId": "2a4ea17a-d906-425f-b84a-0b960e197055",
        "colab": {
          "base_uri": "https://localhost:8080/"
        }
      },
      "source": [
        "type(img)"
      ],
      "execution_count": null,
      "outputs": [
        {
          "output_type": "execute_result",
          "data": {
            "text/plain": [
              "PIL.PngImagePlugin.PngImageFile"
            ]
          },
          "metadata": {
            "tags": []
          },
          "execution_count": 34
        }
      ]
    },
    {
      "cell_type": "code",
      "metadata": {
        "id": "4uPhRgle4x1A"
      },
      "source": [
        "img_0 = img.copy()"
      ],
      "execution_count": null,
      "outputs": []
    },
    {
      "cell_type": "code",
      "metadata": {
        "id": "lkazhu2F4x1F"
      },
      "source": [
        "data_transforms = transforms.Compose([\n",
        "        transforms.RandomResizedCrop(100)\n",
        "        ])"
      ],
      "execution_count": null,
      "outputs": []
    },
    {
      "cell_type": "code",
      "metadata": {
        "id": "H1u1mT2L4x1I"
      },
      "source": [
        "img_crop = data_transforms(img_0)"
      ],
      "execution_count": null,
      "outputs": []
    },
    {
      "cell_type": "code",
      "metadata": {
        "id": "lvf0pA404x1U",
        "outputId": "8c4da920-d720-4083-e43c-d0d6ee7c8b87",
        "colab": {
          "base_uri": "https://localhost:8080/"
        }
      },
      "source": [
        "type(img_crop)"
      ],
      "execution_count": null,
      "outputs": [
        {
          "output_type": "execute_result",
          "data": {
            "text/plain": [
              "PIL.Image.Image"
            ]
          },
          "metadata": {
            "tags": []
          },
          "execution_count": 38
        }
      ]
    },
    {
      "cell_type": "code",
      "metadata": {
        "scrolled": true,
        "id": "S6xryruy4x1Y",
        "outputId": "cff8982e-1d9e-4027-fcf7-959c6afd0806",
        "colab": {
          "base_uri": "https://localhost:8080/"
        }
      },
      "source": [
        "plt.imshow(img_crop)\n",
        "plt.show()"
      ],
      "execution_count": null,
      "outputs": [
        {
          "output_type": "display_data",
          "data": {
            "image/png": "[encoded data removed]",
            "text/plain": [
              "<Figure size 432x288 with 1 Axes>"
            ]
          },
          "metadata": {
            "tags": [],
            "needs_background": "light"
          }
        }
      ]
    },
    {
      "cell_type": "code",
      "metadata": {
        "id": "h3A9Pe6w4x1b"
      },
      "source": [
        "img_1 = img.copy()"
      ],
      "execution_count": null,
      "outputs": []
    },
    {
      "cell_type": "code",
      "metadata": {
        "id": "xOG2hwCI4x1d"
      },
      "source": [
        "transformations = transforms.Compose([\n",
        "#     transforms.Resize((255,255)),\n",
        "    transforms.RandomRotation(90),\n",
        "    transforms.ToTensor(),\n",
        "    transforms.Normalize(0.0,0.1,0.1)\n",
        "#     transforms.CenterCrop(224)\n",
        "    \n",
        "])"
      ],
      "execution_count": null,
      "outputs": []
    },
    {
      "cell_type": "code",
      "metadata": {
        "id": "JljOMGQC4x1g"
      },
      "source": [
        "img_center_crop = transformations(img_1)"
      ],
      "execution_count": null,
      "outputs": []
    },
    {
      "cell_type": "code",
      "metadata": {
        "id": "gis1uAbU4x1j",
        "outputId": "be18bf57-9215-466b-fe02-e2f11c6f698f",
        "colab": {
          "base_uri": "https://localhost:8080/"
        }
      },
      "source": [
        "plt.imshow(img_center_crop)\n",
        "plt.show()"
      ],
      "execution_count": null,
      "outputs": [
        {
          "output_type": "error",
          "ename": "TypeError",
          "evalue": "ignored",
          "traceback": [
            "\u001b[0;31m---------------------------------------------------------------------------\u001b[0m",
            "\u001b[0;31mTypeError\u001b[0m                                 Traceback (most recent call last)",
            "\u001b[0;32m<ipython-input-43-b9503221e468>\u001b[0m in \u001b[0;36m<module>\u001b[0;34m()\u001b[0m\n\u001b[0;32m----> 1\u001b[0;31m \u001b[0mplt\u001b[0m\u001b[0;34m.\u001b[0m\u001b[0mimshow\u001b[0m\u001b[0;34m(\u001b[0m\u001b[0mimg_center_crop\u001b[0m\u001b[0;34m)\u001b[0m\u001b[0;34m\u001b[0m\u001b[0;34m\u001b[0m\u001b[0m\n\u001b[0m\u001b[1;32m      2\u001b[0m \u001b[0mplt\u001b[0m\u001b[0;34m.\u001b[0m\u001b[0mshow\u001b[0m\u001b[0;34m(\u001b[0m\u001b[0;34m)\u001b[0m\u001b[0;34m\u001b[0m\u001b[0;34m\u001b[0m\u001b[0m\n",
            "\u001b[0;32m/usr/local/lib/python3.6/dist-packages/matplotlib/pyplot.py\u001b[0m in \u001b[0;36mimshow\u001b[0;34m(X, cmap, norm, aspect, interpolation, alpha, vmin, vmax, origin, extent, shape, filternorm, filterrad, imlim, resample, url, data, **kwargs)\u001b[0m\n\u001b[1;32m   2649\u001b[0m         \u001b[0mfilternorm\u001b[0m\u001b[0;34m=\u001b[0m\u001b[0mfilternorm\u001b[0m\u001b[0;34m,\u001b[0m \u001b[0mfilterrad\u001b[0m\u001b[0;34m=\u001b[0m\u001b[0mfilterrad\u001b[0m\u001b[0;34m,\u001b[0m \u001b[0mimlim\u001b[0m\u001b[0;34m=\u001b[0m\u001b[0mimlim\u001b[0m\u001b[0;34m,\u001b[0m\u001b[0;34m\u001b[0m\u001b[0;34m\u001b[0m\u001b[0m\n\u001b[1;32m   2650\u001b[0m         resample=resample, url=url, **({\"data\": data} if data is not\n\u001b[0;32m-> 2651\u001b[0;31m         None else {}), **kwargs)\n\u001b[0m\u001b[1;32m   2652\u001b[0m     \u001b[0msci\u001b[0m\u001b[0;34m(\u001b[0m\u001b[0m__ret\u001b[0m\u001b[0;34m)\u001b[0m\u001b[0;34m\u001b[0m\u001b[0;34m\u001b[0m\u001b[0m\n\u001b[1;32m   2653\u001b[0m     \u001b[0;32mreturn\u001b[0m \u001b[0m__ret\u001b[0m\u001b[0;34m\u001b[0m\u001b[0;34m\u001b[0m\u001b[0m\n",
            "\u001b[0;32m/usr/local/lib/python3.6/dist-packages/matplotlib/__init__.py\u001b[0m in \u001b[0;36minner\u001b[0;34m(ax, data, *args, **kwargs)\u001b[0m\n\u001b[1;32m   1563\u001b[0m     \u001b[0;32mdef\u001b[0m \u001b[0minner\u001b[0m\u001b[0;34m(\u001b[0m\u001b[0max\u001b[0m\u001b[0;34m,\u001b[0m \u001b[0;34m*\u001b[0m\u001b[0margs\u001b[0m\u001b[0;34m,\u001b[0m \u001b[0mdata\u001b[0m\u001b[0;34m=\u001b[0m\u001b[0;32mNone\u001b[0m\u001b[0;34m,\u001b[0m \u001b[0;34m**\u001b[0m\u001b[0mkwargs\u001b[0m\u001b[0;34m)\u001b[0m\u001b[0;34m:\u001b[0m\u001b[0;34m\u001b[0m\u001b[0;34m\u001b[0m\u001b[0m\n\u001b[1;32m   1564\u001b[0m         \u001b[0;32mif\u001b[0m \u001b[0mdata\u001b[0m \u001b[0;32mis\u001b[0m \u001b[0;32mNone\u001b[0m\u001b[0;34m:\u001b[0m\u001b[0;34m\u001b[0m\u001b[0;34m\u001b[0m\u001b[0m\n\u001b[0;32m-> 1565\u001b[0;31m             \u001b[0;32mreturn\u001b[0m \u001b[0mfunc\u001b[0m\u001b[0;34m(\u001b[0m\u001b[0max\u001b[0m\u001b[0;34m,\u001b[0m \u001b[0;34m*\u001b[0m\u001b[0mmap\u001b[0m\u001b[0;34m(\u001b[0m\u001b[0msanitize_sequence\u001b[0m\u001b[0;34m,\u001b[0m \u001b[0margs\u001b[0m\u001b[0;34m)\u001b[0m\u001b[0;34m,\u001b[0m \u001b[0;34m**\u001b[0m\u001b[0mkwargs\u001b[0m\u001b[0;34m)\u001b[0m\u001b[0;34m\u001b[0m\u001b[0;34m\u001b[0m\u001b[0m\n\u001b[0m\u001b[1;32m   1566\u001b[0m \u001b[0;34m\u001b[0m\u001b[0m\n\u001b[1;32m   1567\u001b[0m         \u001b[0mbound\u001b[0m \u001b[0;34m=\u001b[0m \u001b[0mnew_sig\u001b[0m\u001b[0;34m.\u001b[0m\u001b[0mbind\u001b[0m\u001b[0;34m(\u001b[0m\u001b[0max\u001b[0m\u001b[0;34m,\u001b[0m \u001b[0;34m*\u001b[0m\u001b[0margs\u001b[0m\u001b[0;34m,\u001b[0m \u001b[0;34m**\u001b[0m\u001b[0mkwargs\u001b[0m\u001b[0;34m)\u001b[0m\u001b[0;34m\u001b[0m\u001b[0;34m\u001b[0m\u001b[0m\n",
            "\u001b[0;32m/usr/local/lib/python3.6/dist-packages/matplotlib/cbook/deprecation.py\u001b[0m in \u001b[0;36mwrapper\u001b[0;34m(*args, **kwargs)\u001b[0m\n\u001b[1;32m    356\u001b[0m                 \u001b[0;34mf\"%(removal)s.  If any parameter follows {name!r}, they \"\u001b[0m\u001b[0;34m\u001b[0m\u001b[0;34m\u001b[0m\u001b[0m\n\u001b[1;32m    357\u001b[0m                 f\"should be pass as keyword, not positionally.\")\n\u001b[0;32m--> 358\u001b[0;31m         \u001b[0;32mreturn\u001b[0m \u001b[0mfunc\u001b[0m\u001b[0;34m(\u001b[0m\u001b[0;34m*\u001b[0m\u001b[0margs\u001b[0m\u001b[0;34m,\u001b[0m \u001b[0;34m**\u001b[0m\u001b[0mkwargs\u001b[0m\u001b[0;34m)\u001b[0m\u001b[0;34m\u001b[0m\u001b[0;34m\u001b[0m\u001b[0m\n\u001b[0m\u001b[1;32m    359\u001b[0m \u001b[0;34m\u001b[0m\u001b[0m\n\u001b[1;32m    360\u001b[0m     \u001b[0;32mreturn\u001b[0m \u001b[0mwrapper\u001b[0m\u001b[0;34m\u001b[0m\u001b[0;34m\u001b[0m\u001b[0m\n",
            "\u001b[0;32m/usr/local/lib/python3.6/dist-packages/matplotlib/cbook/deprecation.py\u001b[0m in \u001b[0;36mwrapper\u001b[0;34m(*args, **kwargs)\u001b[0m\n\u001b[1;32m    356\u001b[0m                 \u001b[0;34mf\"%(removal)s.  If any parameter follows {name!r}, they \"\u001b[0m\u001b[0;34m\u001b[0m\u001b[0;34m\u001b[0m\u001b[0m\n\u001b[1;32m    357\u001b[0m                 f\"should be pass as keyword, not positionally.\")\n\u001b[0;32m--> 358\u001b[0;31m         \u001b[0;32mreturn\u001b[0m \u001b[0mfunc\u001b[0m\u001b[0;34m(\u001b[0m\u001b[0;34m*\u001b[0m\u001b[0margs\u001b[0m\u001b[0;34m,\u001b[0m \u001b[0;34m**\u001b[0m\u001b[0mkwargs\u001b[0m\u001b[0;34m)\u001b[0m\u001b[0;34m\u001b[0m\u001b[0;34m\u001b[0m\u001b[0m\n\u001b[0m\u001b[1;32m    359\u001b[0m \u001b[0;34m\u001b[0m\u001b[0m\n\u001b[1;32m    360\u001b[0m     \u001b[0;32mreturn\u001b[0m \u001b[0mwrapper\u001b[0m\u001b[0;34m\u001b[0m\u001b[0;34m\u001b[0m\u001b[0m\n",
            "\u001b[0;32m/usr/local/lib/python3.6/dist-packages/matplotlib/axes/_axes.py\u001b[0m in \u001b[0;36mimshow\u001b[0;34m(self, X, cmap, norm, aspect, interpolation, alpha, vmin, vmax, origin, extent, shape, filternorm, filterrad, imlim, resample, url, **kwargs)\u001b[0m\n\u001b[1;32m   5624\u001b[0m                               resample=resample, **kwargs)\n\u001b[1;32m   5625\u001b[0m \u001b[0;34m\u001b[0m\u001b[0m\n\u001b[0;32m-> 5626\u001b[0;31m         \u001b[0mim\u001b[0m\u001b[0;34m.\u001b[0m\u001b[0mset_data\u001b[0m\u001b[0;34m(\u001b[0m\u001b[0mX\u001b[0m\u001b[0;34m)\u001b[0m\u001b[0;34m\u001b[0m\u001b[0;34m\u001b[0m\u001b[0m\n\u001b[0m\u001b[1;32m   5627\u001b[0m         \u001b[0mim\u001b[0m\u001b[0;34m.\u001b[0m\u001b[0mset_alpha\u001b[0m\u001b[0;34m(\u001b[0m\u001b[0malpha\u001b[0m\u001b[0;34m)\u001b[0m\u001b[0;34m\u001b[0m\u001b[0;34m\u001b[0m\u001b[0m\n\u001b[1;32m   5628\u001b[0m         \u001b[0;32mif\u001b[0m \u001b[0mim\u001b[0m\u001b[0;34m.\u001b[0m\u001b[0mget_clip_path\u001b[0m\u001b[0;34m(\u001b[0m\u001b[0;34m)\u001b[0m \u001b[0;32mis\u001b[0m \u001b[0;32mNone\u001b[0m\u001b[0;34m:\u001b[0m\u001b[0;34m\u001b[0m\u001b[0;34m\u001b[0m\u001b[0m\n",
            "\u001b[0;32m/usr/local/lib/python3.6/dist-packages/matplotlib/image.py\u001b[0m in \u001b[0;36mset_data\u001b[0;34m(self, A)\u001b[0m\n\u001b[1;32m    697\u001b[0m                 or self._A.ndim == 3 and self._A.shape[-1] in [3, 4]):\n\u001b[1;32m    698\u001b[0m             raise TypeError(\"Invalid shape {} for image data\"\n\u001b[0;32m--> 699\u001b[0;31m                             .format(self._A.shape))\n\u001b[0m\u001b[1;32m    700\u001b[0m \u001b[0;34m\u001b[0m\u001b[0m\n\u001b[1;32m    701\u001b[0m         \u001b[0;32mif\u001b[0m \u001b[0mself\u001b[0m\u001b[0;34m.\u001b[0m\u001b[0m_A\u001b[0m\u001b[0;34m.\u001b[0m\u001b[0mndim\u001b[0m \u001b[0;34m==\u001b[0m \u001b[0;36m3\u001b[0m\u001b[0;34m:\u001b[0m\u001b[0;34m\u001b[0m\u001b[0;34m\u001b[0m\u001b[0m\n",
            "\u001b[0;31mTypeError\u001b[0m: Invalid shape (4, 500, 500) for image data"
          ]
        },
        {
          "output_type": "display_data",
          "data": {
            "image/png": "[encoded data removed]",
            "text/plain": [
              "<Figure size 432x288 with 1 Axes>"
            ]
          },
          "metadata": {
            "tags": [],
            "needs_background": "light"
          }
        }
      ]
    },
    {
      "cell_type": "markdown",
      "metadata": {
        "id": "0STs0qbP4x1m"
      },
      "source": [
        "### Тензоры"
      ]
    },
    {
      "cell_type": "markdown",
      "metadata": {
        "id": "B1CumCL34x1m"
      },
      "source": [
        "Те́нзор (от лат. tensus, «напряжённый») — объект линейной алгебры, линейно преобразующий элементы одного линейного пространства в элементы другого.\n",
        "\n",
        "https://ftfsite.ru/wp-content/files/tensor_dla_chainikov_2.1.pdf"
      ]
    },
    {
      "cell_type": "code",
      "metadata": {
        "id": "EkQ_DYIeYhW3"
      },
      "source": [
        ""
      ],
      "execution_count": null,
      "outputs": []
    }
  ]
}